{
 "cells": [
  {
   "cell_type": "markdown",
   "id": "a8a07276-0360-4dd7-a165-5726405d7411",
   "metadata": {},
   "source": [
    "# Dictionary "
   ]
  },
  {
   "cell_type": "markdown",
   "id": "7f3ef1f3-2496-4a6d-8786-c4e6faf007ef",
   "metadata": {},
   "source": [
    "> In computer science a comman data structure is associate Araay, where each input is mapped with output, in python it is known as Dictionary, itsa powerfull datastructure that store data based on key_values pairs.\n",
    "\n",
    "> Dictionary : changeable, ordered, no duplicate, keys and values."
   ]
  },
  {
   "cell_type": "markdown",
   "id": "fea5e06d-c47f-4865-94cf-32527557277b",
   "metadata": {},
   "source": [
    "## Social media posts"
   ]
  },
  {
   "cell_type": "markdown",
   "id": "2c21c8c0-80a2-4d55-b443-ab0551d4eff3",
   "metadata": {},
   "source": [
    "> Take anysocial media postas an example,where user post something,thatsomethingmight be:\n",
    "\n",
    "> user-id = 5676 ,       \n",
    "> msg = \"Hi there\" ,      \n",
    "> language = \"English\"      \n",
    "> Data time = \"546476678\"     \n",
    "> location = (40.4554,-454645)"
   ]
  },
  {
   "cell_type": "code",
   "execution_count": 2,
   "id": "5d49dbf2-fa90-4ed6-982a-6c24c1789a70",
   "metadata": {},
   "outputs": [
    {
     "name": "stdout",
     "output_type": "stream",
     "text": [
      "{'user_id': 5676, 'msg': 'Hi there', 'language': 'English', 'data_time': '20240522', 'location': (40.4554, -104.78945)}\n",
      "5676\n"
     ]
    }
   ],
   "source": [
    "post = {\r\n",
    "\r\n",
    "        \"user_id\": 5676,\r\n",
    "        \"msg\": \"Hi there\",\r\n",
    "        \"language\": \"English\",\r\n",
    "        \"data_time\": \"20240522\",\r\n",
    "        \"location\": (40.4554,-104.78945)\r\n",
    "}\r\n",
    "\r\n",
    "print(post)\r\n",
    "print(post[\"user_id\"])\r\n"
   ]
  },
  {
   "cell_type": "code",
   "execution_count": 4,
   "id": "8b3fd0a8-2d51-47a1-8f84-6dc0b0747909",
   "metadata": {},
   "outputs": [
    {
     "name": "stdout",
     "output_type": "stream",
     "text": [
      "The key is not found.\n"
     ]
    }
   ],
   "source": [
    "# Error_handling (Two Method)\n",
    "\n",
    "if \"country\" in post:\n",
    "    print(post[\"country\"])\n",
    "else:\n",
    "    print(\"The key is not found.\")"
   ]
  },
  {
   "cell_type": "code",
   "execution_count": 6,
   "id": "26f4723f-b49a-44b5-8fea-313593653d01",
   "metadata": {},
   "outputs": [
    {
     "name": "stdout",
     "output_type": "stream",
     "text": [
      "The key does not exist.\n"
     ]
    }
   ],
   "source": [
    "try:\n",
    "    print(post[\"country\"])\n",
    "except KeyError:\n",
    "    print(\"The key does not exist.\")"
   ]
  },
  {
   "cell_type": "code",
   "execution_count": 7,
   "id": "9d91de4e-5598-4903-bacd-06ee5674628d",
   "metadata": {},
   "outputs": [
    {
     "name": "stdout",
     "output_type": "stream",
     "text": [
      "<class 'dict'>\n"
     ]
    }
   ],
   "source": [
    "print(type(post))"
   ]
  },
  {
   "cell_type": "code",
   "execution_count": 8,
   "id": "477338dc-bfa0-4488-adab-57b4e7745e05",
   "metadata": {},
   "outputs": [
    {
     "name": "stdout",
     "output_type": "stream",
     "text": [
      "{'msg': 'hi this post', 'location': (40.4554, -104.78945)}\n"
     ]
    }
   ],
   "source": [
    "post2 = dict(msg = \"hi this post\", location = (40.4554,-104.78945))\n",
    "print(post2)"
   ]
  },
  {
   "cell_type": "code",
   "execution_count": 9,
   "id": "ee3d2021-cd92-4141-92bb-f82a55b9245e",
   "metadata": {},
   "outputs": [
    {
     "name": "stdout",
     "output_type": "stream",
     "text": [
      "{'msg': 'hi this post', 'location': (40.4554, -104.78945), 'langugeage': 'Spanish'}\n"
     ]
    }
   ],
   "source": [
    "post2[\"langugeage\"] = \"Spanish\"\n",
    "print(post2)"
   ]
  },
  {
   "cell_type": "code",
   "execution_count": 16,
   "id": "df7411e5-007a-4c07-8403-ac6d1f87ccef",
   "metadata": {},
   "outputs": [
    {
     "data": {
      "text/plain": [
       "['__class__',\n",
       " '__class_getitem__',\n",
       " '__contains__',\n",
       " '__delattr__',\n",
       " '__delitem__',\n",
       " '__dir__',\n",
       " '__doc__',\n",
       " '__eq__',\n",
       " '__format__',\n",
       " '__ge__',\n",
       " '__getattribute__',\n",
       " '__getitem__',\n",
       " '__getstate__',\n",
       " '__gt__',\n",
       " '__hash__',\n",
       " '__init__',\n",
       " '__init_subclass__',\n",
       " '__ior__',\n",
       " '__iter__',\n",
       " '__le__',\n",
       " '__len__',\n",
       " '__lt__',\n",
       " '__ne__',\n",
       " '__new__',\n",
       " '__or__',\n",
       " '__reduce__',\n",
       " '__reduce_ex__',\n",
       " '__repr__',\n",
       " '__reversed__',\n",
       " '__ror__',\n",
       " '__setattr__',\n",
       " '__setitem__',\n",
       " '__sizeof__',\n",
       " '__str__',\n",
       " '__subclasshook__',\n",
       " 'clear',\n",
       " 'copy',\n",
       " 'fromkeys',\n",
       " 'get',\n",
       " 'items',\n",
       " 'keys',\n",
       " 'pop',\n",
       " 'popitem',\n",
       " 'setdefault',\n",
       " 'update',\n",
       " 'values']"
      ]
     },
     "execution_count": 16,
     "metadata": {},
     "output_type": "execute_result"
    }
   ],
   "source": [
    "# class methods\n",
    "dir(post2)"
   ]
  },
  {
   "cell_type": "code",
   "execution_count": 10,
   "id": "910fcae0-a9b4-4942-959c-acd9a822f680",
   "metadata": {},
   "outputs": [
    {
     "name": "stdout",
     "output_type": "stream",
     "text": [
      "Help on built-in function get:\n",
      "\n",
      "get(key, default=None, /) method of builtins.dict instance\n",
      "    Return the value for key if key is in the dictionary, else default.\n",
      "\n"
     ]
    }
   ],
   "source": [
    "help(post2.get)"
   ]
  },
  {
   "cell_type": "code",
   "execution_count": 11,
   "id": "e366e0f3-5d61-4a18-96a8-a9c0c2057461",
   "metadata": {},
   "outputs": [
    {
     "name": "stdout",
     "output_type": "stream",
     "text": [
      "0\n"
     ]
    }
   ],
   "source": [
    "print(post2.get(\"city\", 0))"
   ]
  },
  {
   "cell_type": "code",
   "execution_count": 12,
   "id": "a4e88d51-0adf-4bdc-a1aa-ac0618e50a63",
   "metadata": {},
   "outputs": [
    {
     "name": "stdout",
     "output_type": "stream",
     "text": [
      "key: msg, value: hi this post\n",
      "key: location, value: (40.4554, -104.78945)\n",
      "key: langugeage, value: Spanish\n"
     ]
    }
   ],
   "source": [
    "for key in post2.keys():\n",
    "    value = post2[key]\n",
    "    print(f\"key: {key}, value: {value}\")"
   ]
  },
  {
   "cell_type": "code",
   "execution_count": 13,
   "id": "ddce5f37-b432-4304-855a-f83885e14b18",
   "metadata": {},
   "outputs": [
    {
     "name": "stdout",
     "output_type": "stream",
     "text": [
      "<class 'dict'>\n",
      "{'k1': 12, 'k2': 13}\n",
      "12\n",
      "dict_values([12, 13])\n",
      "dict_keys(['k1', 'k2'])\n",
      "{'Std1': {'Name': 'Asad'}, 'Std2': {'Name': 'Iqra'}}\n",
      "{'Name': 'Asad'}\n",
      "{'Name': 'Iqra'}\n",
      "dict_values([{'Name': 'Asad'}, {'Name': 'Iqra'}])\n",
      "dict_keys(['Std1', 'Std2'])\n",
      "Asad\n",
      "{'k1': 12, 'k2': 13, 'k3': 14}\n",
      "{'Std1': {'Name': 'Asad'}, 'Std2': {'Name': 'Iqra'}, 'std3': {'Name': 'Suneel'}}\n",
      "{'k1': 12, 'k2': 13, 'k3': 15}\n",
      "{'Std1': {'Name': 'Asad'}, 'Std2': {'Name': 'Iqra'}, 'std3': {'Name': 'Suneel'}, 'std1': {'Name': 'Shivani'}}\n"
     ]
    }
   ],
   "source": [
    "d1 = {\n",
    "\"k1\" : 12,\n",
    "\"k2\" : 13\n",
    "}\n",
    "print(type(d1))\n",
    "print(d1)\n",
    "\n",
    "print(d1[\"k1\"])\n",
    "print(d1.values())\n",
    "print(d1.keys())\n",
    "\n",
    "#ordered\n",
    "\n",
    "studentDetails = {\n",
    "    \"Std1\" :\n",
    "    {\"Name\": \"Asad\"},\n",
    "    \"Std2\" :\n",
    "    {\"Name\": \"Iqra\"}\n",
    "\n",
    "}\n",
    "\n",
    "print(studentDetails)\n",
    "print(studentDetails[\"Std1\"])\n",
    "print(studentDetails[\"Std2\"])\n",
    "print(studentDetails.values())\n",
    "print(studentDetails.keys())\n",
    "\n",
    "print(studentDetails[\"Std1\"][\"Name\"])\n",
    "\n",
    "#Adding method in dict\n",
    "\n",
    "d1[\"k3\"] = 14\n",
    "print(d1)\n",
    "studentDetails[\"std3\"] = {\"Name\": \"Suneel\"}\n",
    "print(studentDetails)\n",
    "\n",
    "#updating in dict:\n",
    "\n",
    "d1.update({\"k3\":15})\n",
    "print(d1)\n",
    "\n",
    "studentDetails.update({\"std1\": {\"Name\": \"Shivani\"}})\n",
    "print(studentDetails)"
   ]
  },
  {
   "cell_type": "markdown",
   "id": "5207b64c-0b1e-487d-8747-b9b0a03e3c13",
   "metadata": {},
   "source": [
    "## Digit converter\n",
    "\n",
    "> ##### Ask the user to input any number eg,                             \n",
    "> ##### 0333333 zerothreethreethree.."
   ]
  },
  {
   "cell_type": "code",
   "execution_count": 14,
   "id": "b339c4e8-52bc-4433-9062-4c7ed674eb56",
   "metadata": {},
   "outputs": [
    {
     "name": "stdin",
     "output_type": "stream",
     "text": [
      "Enter a number:  03201130124\n"
     ]
    },
    {
     "name": "stdout",
     "output_type": "stream",
     "text": [
      "zero three two zero one one three zero one two four \n"
     ]
    }
   ],
   "source": [
    "digits = {\n",
    "\n",
    "          \"0\": \"zero\",\n",
    "          \"1\": \"one\",\n",
    "          \"2\": \"two\",\n",
    "          \"3\": \"three\",\n",
    "          \"4\": \"four\",\n",
    "          \"5\": \"five\",\n",
    "          \"6\": \"six\",\n",
    "          \"7\": \"seven\",\n",
    "          \"8\": \"eight\",\n",
    "          \"9\": \"nine\",\n",
    "}\n",
    "\n",
    "number = input(\"Enter a number: \")\n",
    "output  = \"\"\n",
    "for digit in number:\n",
    "  output = output + digits.get(digit,digit) + \" \"\n",
    "\n",
    "print(output)"
   ]
  },
  {
   "cell_type": "markdown",
   "id": "396217e8-699a-4bee-a904-eddb985a9951",
   "metadata": {},
   "source": [
    "## Emoji Converter\n",
    "\n",
    "#### Hi good day :) #input\n",
    "#### Hi good day 😊 #output"
   ]
  },
  {
   "cell_type": "code",
   "execution_count": 15,
   "id": "5a37e546-6059-4d31-893c-df5c3135efad",
   "metadata": {},
   "outputs": [
    {
     "name": "stdin",
     "output_type": "stream",
     "text": [
      "Enter you msg : Hi good day :)\n"
     ]
    },
    {
     "name": "stdout",
     "output_type": "stream",
     "text": [
      "Hi good day 😊 \n"
     ]
    }
   ],
   "source": [
    "msg = input(\"Enter you msg :\")\n",
    "msg = msg.split()\n",
    "emojis = {\n",
    "\n",
    "          \":)\" : \"😊\",\n",
    "          \":(\" : \"😞\"\n",
    "}\n",
    "output = \"\"\n",
    "for word in msg:\n",
    "  output = output + emojis.get(word, word) + \" \"\n",
    "print(output)"
   ]
  },
  {
   "cell_type": "markdown",
   "id": "be3c9c69-f660-44d3-b94c-0e2ff494218c",
   "metadata": {},
   "source": [
    "## Dict Comprehension\n",
    "\n",
    ">when to use and when to not?"
   ]
  }
 ],
 "metadata": {
  "kernelspec": {
   "display_name": "Python 3 (ipykernel)",
   "language": "python",
   "name": "python3"
  },
  "language_info": {
   "codemirror_mode": {
    "name": "ipython",
    "version": 3
   },
   "file_extension": ".py",
   "mimetype": "text/x-python",
   "name": "python",
   "nbconvert_exporter": "python",
   "pygments_lexer": "ipython3",
   "version": "3.12.4"
  }
 },
 "nbformat": 4,
 "nbformat_minor": 5
}
