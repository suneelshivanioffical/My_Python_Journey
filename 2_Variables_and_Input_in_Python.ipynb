{
 "cells": [
  {
   "cell_type": "markdown",
   "id": "b030dc9e-351b-4a9c-9aa2-7a636ff6ddd7",
   "metadata": {},
   "source": [
    "# Variables"
   ]
  },
  {
   "cell_type": "markdown",
   "id": "ab37c461-641a-4855-9168-4f1ca6e18db4",
   "metadata": {},
   "source": [
    "> Variables_in_Python : is a name given to memory location in a program.     \n",
    "> - Variables = Values"
   ]
  },
  {
   "cell_type": "code",
   "execution_count": 1,
   "id": "6bf5b21c-68a4-4e65-b469-f718e42960ec",
   "metadata": {},
   "outputs": [
    {
     "name": "stdout",
     "output_type": "stream",
     "text": [
      "Suneel\n",
      "My name is: Suneel\n",
      "Suneel\n"
     ]
    }
   ],
   "source": [
    "first_name = \"Suneel\"\n",
    "last_name = \"Shivani\"\n",
    "age = 21\n",
    "\n",
    "print(first_name)\n",
    "print(\"My name is:\", first_name)\n",
    "\n",
    "#Or\n",
    "\n",
    "name = first_name = \"Suneel\"\n",
    "print(name)"
   ]
  },
  {
   "cell_type": "code",
   "execution_count": 9,
   "id": "6de23b4e-d013-4919-9585-895d244e5290",
   "metadata": {},
   "outputs": [
    {
     "name": "stdin",
     "output_type": "stream",
     "text": [
      "What is you superhero name? Ironman\n"
     ]
    },
    {
     "name": "stdout",
     "output_type": "stream",
     "text": [
      "My Superhero is : Ironman\n"
     ]
    },
    {
     "name": "stdin",
     "output_type": "stream",
     "text": [
      "What is your age? 21\n"
     ]
    },
    {
     "name": "stdout",
     "output_type": "stream",
     "text": [
      "Hello 21 years old man.\n"
     ]
    },
    {
     "name": "stdin",
     "output_type": "stream",
     "text": [
      "The frist number is  45\n",
      "The second number is  89\n"
     ]
    },
    {
     "name": "stdout",
     "output_type": "stream",
     "text": [
      "The Sum is :  134\n"
     ]
    },
    {
     "name": "stdin",
     "output_type": "stream",
     "text": [
      "What is your old age? 21\n"
     ]
    },
    {
     "name": "stdout",
     "output_type": "stream",
     "text": [
      "The new age is : 26\n"
     ]
    },
    {
     "name": "stdin",
     "output_type": "stream",
     "text": [
      "Enter you email: shivanisuneel82@gmail.com\n"
     ]
    },
    {
     "name": "stdout",
     "output_type": "stream",
     "text": [
      "Email : shivanisuneel82@gmail.com\n"
     ]
    },
    {
     "name": "stdin",
     "output_type": "stream",
     "text": [
      "Enter your name: Suneel Shivani\n",
      "Enter your age 21\n",
      "Your score 94\n"
     ]
    },
    {
     "name": "stdout",
     "output_type": "stream",
     "text": [
      "Welcome Suneel Shivani\n",
      "My age is 21\n",
      "My Score is :  94\n"
     ]
    },
    {
     "name": "stdin",
     "output_type": "stream",
     "text": [
      "Enter you age: 21\n"
     ]
    },
    {
     "name": "stdout",
     "output_type": "stream",
     "text": [
      "Your Brith year is : 2003\n"
     ]
    }
   ],
   "source": [
    "#_input_in_python:\n",
    "\n",
    "#_1.\n",
    "\n",
    "name = input(\"What is you superhero name?\")\n",
    "\n",
    "print(\"My Superhero is :\", name)\n",
    "\n",
    "#_2.\n",
    "\n",
    "age = input(\"What is your age?\")\n",
    "\n",
    "print(\"Hello \" + age + \" years old man.\")\n",
    "\n",
    "#_3\n",
    "\n",
    "first = input(\"The frist number is \")\n",
    "second = input(\"The second number is \")\n",
    "\n",
    "sum = int(first) + int(second)\n",
    "\n",
    "print(\"The Sum is : \",sum)\n",
    "\n",
    "#_4.\n",
    "\n",
    "old_age = input(\"What is your old age?\")\n",
    "new_age = int(old_age) + 5\n",
    "\n",
    "print(\"The new age is :\", new_age)\n",
    "\n",
    "#_5.\n",
    "\n",
    "email = input(\"Enter you email:\")\n",
    "\n",
    "print(\"Email :\",email)\n",
    "\n",
    "#_6.\n",
    "\n",
    "name = input(\"Enter your name:\")\n",
    "age = input(\"Enter your age\")\n",
    "score = input(\"Your score\")\n",
    "\n",
    "print(\"Welcome\", name)\n",
    "print(\"My age is\", age)\n",
    "print(\"My Score is : \",score)\n",
    "\n",
    "#_7.\n",
    "\n",
    "age = int(input(\"Enter you age:\"))\n",
    "age = 2024 - age\n",
    "\n",
    "print(\"Your Brith year is :\",age)"
   ]
  }
 ],
 "metadata": {
  "kernelspec": {
   "display_name": "Python 3 (ipykernel)",
   "language": "python",
   "name": "python3"
  },
  "language_info": {
   "codemirror_mode": {
    "name": "ipython",
    "version": 3
   },
   "file_extension": ".py",
   "mimetype": "text/x-python",
   "name": "python",
   "nbconvert_exporter": "python",
   "pygments_lexer": "ipython3",
   "version": "3.12.4"
  }
 },
 "nbformat": 4,
 "nbformat_minor": 5
}
