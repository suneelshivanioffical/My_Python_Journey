{
 "cells": [
  {
   "cell_type": "markdown",
   "id": "cf9683b5-8e25-4c9f-9956-bdf5330c21e3",
   "metadata": {},
   "source": [
    "# 1_List"
   ]
  },
  {
   "cell_type": "markdown",
   "id": "d026ff16-1e0a-4741-a67c-e0b0ec46858f",
   "metadata": {},
   "source": [
    "> List is a collection which is ordered and changeable. Allows duplicate members."
   ]
  },
  {
   "cell_type": "code",
   "execution_count": 1,
   "id": "94023a31-4295-4fdc-a066-742caf46b230",
   "metadata": {},
   "outputs": [
    {
     "name": "stdout",
     "output_type": "stream",
     "text": [
      "[2, 3, 4, 5]\n",
      "[2, 4, 6, 8, 10]\n",
      "[1, 3, 5, 7, 9]\n",
      "[4, 5, 6]\n",
      "[2, 3, 4, 5, 6, 7, 8]\n"
     ]
    }
   ],
   "source": [
    "# LIST_SLICING\n",
    "\n",
    "list = [1,2,3,4,5,6,7,8,9,10]\n",
    "\n",
    "print(list[1:5])\n",
    "print(list[1::2])\n",
    "print(list[::2])\n",
    "print(list[-7:-4])\n",
    "print(list[1:-2])"
   ]
  },
  {
   "cell_type": "code",
   "execution_count": 3,
   "id": "2ba9a70b-98da-4bb3-838d-ad5017c4ed15",
   "metadata": {},
   "outputs": [
    {
     "name": "stdout",
     "output_type": "stream",
     "text": [
      "['Suneel', 123, '03201130124', 'abc_sector']\n",
      "['Suneel', 555, 123, '03201130124', 'abc_sector']\n",
      "['Suneel', 555, 123, 'Pyhton', '03201130124', 'abc_sector']\n",
      "['Amir', '21-12-2020', '12%']\n",
      "['Suneel', 555, 'Pyhton', '03201130124', 'abc_sector']\n",
      "[555, 'Pyhton', '03201130124', 'abc_sector']\n"
     ]
    }
   ],
   "source": [
    "# LIST_METHHODS\n",
    "\n",
    "list1 = [\"Suneel\", 123, \"03201130124\", \"abc_sector\"]\n",
    "\n",
    "print(list1)\n",
    "\n",
    "# insert\n",
    "\n",
    "list1.insert(1, 555)\n",
    "print(list1)\n",
    "\n",
    "list1.insert(3, \"Pyhton\")\n",
    "print(list1)\n",
    "\n",
    "# extend\n",
    "\n",
    "information_of_joining = [\"Amir\", \"21-12-2020\"]\n",
    "salary = [\"12%\"]\n",
    "information_of_joining.extend(salary)\n",
    "print(information_of_joining)\n",
    "\n",
    "list1.remove(123)\n",
    "print(list1)\n",
    "\n",
    "# del it is a keyword\n",
    "# del deletes values or object from the list using an index\n",
    "\n",
    "del list1[0]\n",
    "print(list1)"
   ]
  },
  {
   "cell_type": "code",
   "execution_count": 4,
   "id": "7eec8d2c-092e-4ca9-a771-1871adb9349c",
   "metadata": {},
   "outputs": [
    {
     "name": "stdout",
     "output_type": "stream",
     "text": [
      "['Dozen Banana', 'apple']\n",
      "['Dozen Banana', 'apple', ['Dozen Banana', 'apple'], [499, 100]]\n"
     ]
    }
   ],
   "source": [
    "basket = []\n",
    "shop = [\"Dozen Banana\" , \"apple\"]\n",
    "amount = [499,100 ]\n",
    "\n",
    "basket.insert(0, shop[0])\n",
    "basket.insert(1, shop[1])\n",
    "#basket.insert(1, amount)\n",
    "print(basket)\n",
    "\n",
    "basket.append(shop)\n",
    "basket.append(amount)\n",
    "print(basket)"
   ]
  },
  {
   "cell_type": "code",
   "execution_count": 5,
   "id": "fdb1e43b-f73a-45a7-9a65-f717ff7a698e",
   "metadata": {},
   "outputs": [
    {
     "name": "stdout",
     "output_type": "stream",
     "text": [
      "Available items in shop: ['Chocolates', 'Apples', 'Pens', 'Rulers']\n",
      "Basket is empty []\n",
      "['Chocolates', 'Pens']\n",
      "Items bought : /n Chocolates 120 /n Pens 120\n",
      "Total amount have to pay :  240\n"
     ]
    }
   ],
   "source": [
    "shop = [\"Chocolates\", \"Apples\" , \"Pens\" , \"Rulers\"]\n",
    "print(\"Available items in shop:\", shop)\n",
    "amount_of_items = [120 , 250 , 120 , 60]\n",
    "\n",
    "Basket = []\n",
    "print (\"Basket is empty\", Basket)\n",
    "\n",
    "Basket.insert(0 , \"Chocolates\")\n",
    "Basket.insert(1 , \"Pens\")\n",
    "print(Basket)\n",
    "print(\"Items bought : /n\", Basket[0],  amount_of_items[0] , \"/n\" , Basket[1] ,  amount_of_items[2] )\n",
    "\n",
    "TotalAmount = amount_of_items[0] + amount_of_items[2]\n",
    "print(\"Total amount have to pay : \", TotalAmount)"
   ]
  },
  {
   "cell_type": "code",
   "execution_count": 6,
   "id": "a42507b9-0540-48ef-985f-e940b7075766",
   "metadata": {},
   "outputs": [
    {
     "name": "stdout",
     "output_type": "stream",
     "text": [
      "['Suneel Gupta', 'Fahad Najeeb', 'M.Aleem', 'Noman Ali']\n",
      "Suneel Gupta 45563 /n Fahad Najeeb 46227 /n M.Aleem 67388 /n Noman Ali 56223\n",
      "['Fahad Najeeb', 'M.Aleem', 'Noman Ali']\n"
     ]
    }
   ],
   "source": [
    "contact_names = [\"Suneel Gupta\",\"Fahad Najeeb\",\"M.Aleem\",\"Noman Ali\"]\n",
    "phone_numb = [45563, 46227, 67388, 56223]\n",
    "\n",
    "Contact_lists = []\n",
    "\n",
    "# Adding the names in contact list.\n",
    "\n",
    "Contact_lists.insert(0, \"Suneel Gupta\")\n",
    "Contact_lists.insert(1, \"Fahad Najeeb\")\n",
    "Contact_lists.insert(2, \"M.Aleem\")\n",
    "Contact_lists.insert(3, \"Noman Ali\")\n",
    "print(Contact_lists)\n",
    "\n",
    "# Adding phone numbers\n",
    "print(Contact_lists [0] , phone_numb[0] , \"/n\",Contact_lists [1] , phone_numb[1], \"/n\", Contact_lists [2] , phone_numb[2], \"/n\" , Contact_lists [3] , phone_numb[3])\n",
    "\n",
    "# Remove/Delete from list\n",
    "Contact_lists.pop(0)\n",
    "print(Contact_lists)"
   ]
  },
  {
   "cell_type": "markdown",
   "id": "c65fdfad-3cb9-40d8-afa8-66e44014c34a",
   "metadata": {},
   "source": [
    "# 2_Tuple"
   ]
  },
  {
   "cell_type": "markdown",
   "id": "74282533-4bcd-493a-a2a0-53aa60ca5f72",
   "metadata": {},
   "source": [
    "> Tuple is a collection which is ordered and unchangeable. Allows duplicate members                      \n",
    "> Tuple => unchangeable/ordered/indexed\n",
    "\n"
   ]
  },
  {
   "cell_type": "code",
   "execution_count": 2,
   "id": "575093eb-ab47-4fc5-8441-9da009f604ea",
   "metadata": {},
   "outputs": [
    {
     "name": "stdout",
     "output_type": "stream",
     "text": [
      "('name', 23)\n",
      "name\n",
      "<class 'tuple'>\n",
      "('ab', 'cd', 'Ef', 'gh', 'hi', 'jk', 'lm')\n",
      "('ab', 'cd', 'ef')\n",
      "ab ['cd', 'ef'] gh\n",
      "[1, 2, 3, 4, 5, 6, 7, 7, 2]\n",
      "[2, 3, 4, 5, 6, 7, 7, 2]\n"
     ]
    }
   ],
   "source": [
    "#_Tuple => unchangeable/ordered/indexed\n",
    "\n",
    "# packing tuple\n",
    "\n",
    "mytuple = (\"name\", 23 )\n",
    "print(mytuple)\n",
    "print(mytuple[0])\n",
    "print(type(mytuple))\n",
    "\n",
    "collectionintupple = (\"ab\" ,\"cd\" ,\"Ef\" ,\"gh\" , \"hi\", \"jk\", \"lm\")\n",
    "print(collectionintupple)\n",
    "\n",
    "#_unpacking tuple\n",
    "\n",
    "mytuple2 = (\"ab\", \"cd\", \"ef\")\n",
    "(green , yellow, red) = mytuple2;\n",
    "print(mytuple2)\n",
    "\n",
    "mytuple2 = (\"ab\", \"cd\", \"ef\",\"gh\")\n",
    "(green , *yellow, red) = mytuple2;\n",
    "print(green , yellow, red)\n",
    "\n",
    "# tuple is index it means it can have duplicate value\n",
    "\n",
    "tuple1 = (1,2,3,4,5,6,7,7,2)\n",
    "t = list(tuple1)\n",
    "print(t)\n",
    "\n",
    "t.remove(1)\n",
    "print(t)"
   ]
  },
  {
   "cell_type": "code",
   "execution_count": 4,
   "id": "1d153267-8f3d-4333-97ac-e63c9eee02f6",
   "metadata": {},
   "outputs": [
    {
     "name": "stdout",
     "output_type": "stream",
     "text": [
      "7\n"
     ]
    }
   ],
   "source": [
    "# Print the number of items in the tuple:\n",
    "\n",
    "print(len(collectionintupple))\n"
   ]
  },
  {
   "cell_type": "code",
   "execution_count": 3,
   "id": "503e54b8-5798-425e-a7a4-911801d1edf3",
   "metadata": {},
   "outputs": [
    {
     "name": "stdout",
     "output_type": "stream",
     "text": [
      "['ab', 'cd', 'ef', 'gh']\n",
      "['cd', 'ef', 'gh']\n"
     ]
    }
   ],
   "source": [
    "mytuple2 = (\"ab\", \"cd\", \"ef\",\"gh\")\n",
    "t1 = list(mytuple2)\n",
    "print(t1)\n",
    "\n",
    "del t1[0]\n",
    "print(t1)"
   ]
  },
  {
   "cell_type": "code",
   "execution_count": 17,
   "id": "f1f00e7c-1674-4c8d-b5a6-abbda5e80822",
   "metadata": {},
   "outputs": [
    {
     "name": "stdout",
     "output_type": "stream",
     "text": [
      "(1, 2, 3, 4, 5) (7, 8, 9, 10) (11, 12, 13, 14, 15, 16, 17, 18, 19, 20)\n",
      "Exist\n"
     ]
    }
   ],
   "source": [
    "t1 = (1,2,3,4,5,6,7,8,9,10,11,12,13,14,15,16,17,18,19,20)\n",
    "(yellow, green, red) =t1[:5] , t1[6:10], t1[10:]\n",
    "print(yellow, green, red)\n",
    "\n",
    "if 6 in t1:\n",
    "  print(\"Exist\")\n",
    "else:\n",
    "   print(\"Does't exist\")"
   ]
  },
  {
   "cell_type": "code",
   "execution_count": 9,
   "id": "3619846b-3a45-4edd-9107-58208cc3abcf",
   "metadata": {},
   "outputs": [
    {
     "name": "stdout",
     "output_type": "stream",
     "text": [
      "No it doesn't exist\n"
     ]
    }
   ],
   "source": [
    "# Check if \"apple\" is present in the tuple:\n",
    "\n",
    "thistuple3 = (\"apple\", \"banana\", \"cherry\")\n",
    "if \"lolo\" in thistuple:\n",
    "  print(\"Yes, 'apple' is in the fruits tuple\")\n",
    "else:\n",
    "  print(\"No it doesn't exist\")"
   ]
  },
  {
   "cell_type": "code",
   "execution_count": 6,
   "id": "cf22bf0d-1761-4e7e-af47-51a3f8d3d0d9",
   "metadata": {},
   "outputs": [
    {
     "name": "stdout",
     "output_type": "stream",
     "text": [
      "1\n",
      "<class 'int'>\n",
      "(2,)\n",
      "<class 'tuple'>\n"
     ]
    }
   ],
   "source": [
    "# To create a tuple with only one item, you have to add a comma after the item, otherwise Python will not recognize it as a tuple.\n",
    "\n",
    "n1=(1)\n",
    "print(n1)\n",
    "print(type(n1))\n",
    "\n",
    "n2=(2, )\n",
    "print(n2)\n",
    "print(type(n2))\n"
   ]
  },
  {
   "cell_type": "code",
   "execution_count": 7,
   "id": "3261242f-fe82-4f12-877f-4d0573079787",
   "metadata": {},
   "outputs": [
    {
     "name": "stdout",
     "output_type": "stream",
     "text": [
      "banana\n",
      "cherry\n",
      "('cherry', 'orange', 'kiwi')\n",
      "('cherry', 'orange', 'kiwi', 'melon', 'mango')\n",
      "('apple', 'banana', 'cherry', 'orange')\n",
      "('cherry', 'orange', 'kiwi', 'melon', 'mango')\n",
      "('orange', 'kiwi', 'melon')\n"
     ]
    }
   ],
   "source": [
    "# acces value from tupple\n",
    "\n",
    "thistuple = (\"apple\", \"banana\", \"cherry\")\n",
    "print(thistuple[1])\n",
    "print(thistuple[-1])\n",
    "\n",
    "thistuple1 = (\"apple\", \"banana\", \"cherry\", \"orange\", \"kiwi\", \"melon\", \"mango\")\n",
    "print(thistuple1[2:5])\n",
    "print(thistuple1[2::])\n",
    "print(thistuple1[:4])\n",
    "print(thistuple1[2:])\n",
    "print(thistuple1[-4:-1])\n"
   ]
  },
  {
   "cell_type": "code",
   "execution_count": 17,
   "id": "dda6d4f5-bc18-42d6-a874-077f136f539e",
   "metadata": {},
   "outputs": [
    {
     "name": "stdout",
     "output_type": "stream",
     "text": [
      "[1, 9, 3, 4, 5]\n",
      "<class 'list'>\n",
      "(1, 2, 3, 4, 5, 6, 7, 8)\n",
      "(1, 2, 3, 4, 5, 6, 7, 8, 9)\n"
     ]
    }
   ],
   "source": [
    "# update tupple\n",
    "# Once a tuple is created, you cannot change its values. Tuples are unchangeable, or immutable as it also is called.\n",
    "#But there is a workaround. You can convert the tuple into a list, change the list, and convert the list back into a tuple.\n",
    "\n",
    "a=(1,2,3,4,5)\n",
    "b=list(a)\n",
    "b[1]=9\n",
    "print(b)\n",
    "print(type(b))\n",
    "\n",
    "# Since tuples are immutable, they do not have a built-in append() method, but there are other ways to add items to a tuple.\n",
    "\n",
    "# 1. Convert into a list: Just like the workaround for changing a tuple, you can convert it into a list, add your item(s), and convert it back into a tuple.\n",
    "\n",
    "number=(1,2,3,4,5,6,7,8)\n",
    "print(number)\n",
    "mynumlist=list(number)\n",
    "mynumlist.append(9)\n",
    "number=tuple(mynumlist)\n",
    "print(number)\n"
   ]
  },
  {
   "cell_type": "code",
   "execution_count": 1,
   "id": "5bb52f8b-c156-42df-ba84-76c4fccc28bc",
   "metadata": {},
   "outputs": [
    {
     "name": "stdout",
     "output_type": "stream",
     "text": [
      "(1, 2, 3)\n",
      "(3, 4, 5)\n",
      "(1, 2, 3, 3, 4, 5)\n"
     ]
    }
   ],
   "source": [
    "# 2. Add tuple to a tuple. You are allowed to add tuples to tuples, so if you want to add one item, (or many), create a new tuple with the item(s), and add it to the existing tuple:\n",
    "\n",
    "n1=(1,2,3)\n",
    "print(n1)\n",
    "n2=(3,4,5)\n",
    "print(n2)\n",
    "n1+=n2\n",
    "print(n1)\n"
   ]
  },
  {
   "cell_type": "code",
   "execution_count": 2,
   "id": "f6c73693-3384-4605-8323-c23219a5bd07",
   "metadata": {},
   "outputs": [
    {
     "name": "stdout",
     "output_type": "stream",
     "text": [
      "(10, 12, 14, 16, 18, 20)\n",
      "(10, 14, 16, 18, 20)\n"
     ]
    }
   ],
   "source": [
    "# delete in tupple is noty possible again this is how we can perform deletation\n",
    "n3=(10,12,14,16,18,20)\n",
    "print(n3)\n",
    "n4=list(n3)\n",
    "n4.remove(12)\n",
    "#del n4[0]\n",
    "#print((n4))\n",
    "n3=tuple(n4)\n",
    "print(n3)\n"
   ]
  },
  {
   "cell_type": "code",
   "execution_count": 13,
   "id": "5a09ef14-a78e-4eb0-a918-81fdef646d7d",
   "metadata": {},
   "outputs": [
    {
     "name": "stdout",
     "output_type": "stream",
     "text": [
      "apple\n",
      "banana\n",
      "['cherry', 'strawberry', 'raspberry']\n",
      "apple\n",
      "['banana', 'cherry', 'strawberry']\n",
      "raspberry\n",
      "printing the tupple using loop\n",
      "apple\n",
      "banana\n",
      "cherry\n",
      "strawberry\n",
      "raspberry\n",
      "Using loop through index number\n",
      "apple\n",
      "banana\n",
      "cherry\n",
      "strawberry\n",
      "raspberry\n",
      "Printing using while loop\n",
      "apple\n",
      "banana\n",
      "cherry\n",
      "strawberry\n",
      "raspberry\n",
      "Join tupple\n",
      "('a', 'b', 'c', 1, 2, 3)\n",
      "Multiply tuple: \n",
      "('apple', 'banana', 'cherry', 'apple', 'banana', 'cherry')\n",
      "2\n",
      "3\n"
     ]
    }
   ],
   "source": [
    "fruits = (\"apple\", \"banana\", \"cherry\", \"strawberry\", \"raspberry\")\n",
    "(ab,cd, *ef)=fruits\n",
    "print(ab)\n",
    "print(cd)\n",
    "print(ef)\n",
    "\n",
    "(ab, *cd, ef)=fruits\n",
    "print(ab)\n",
    "print(cd)\n",
    "print(ef)\n",
    "\n",
    "#loop through a tuple\n",
    "print(\"printing the tupple using loop\")\n",
    "for x in fruits:\n",
    "  print(x)\n",
    "\n",
    "#using loop through index number:\n",
    "print(\"Using loop through index number\")\n",
    "for y in range(len(fruits)):\n",
    "  print(fruits[y])\n",
    "\n",
    "print(\"Printing using while loop\")\n",
    "i=0\n",
    "while i<len(fruits):\n",
    "  print(fruits[i])\n",
    "  i+=1\n",
    "#join tupple\n",
    "print(\"Join tupple\")\n",
    "tuple1 = (\"a\", \"b\" , \"c\")\n",
    "tuple2 = (1, 2, 3)\n",
    "\n",
    "tuple3 = tuple1 + tuple2\n",
    "print(tuple3)\n",
    "\n",
    "print(\"Multiply tuple: \")\n",
    "fruits = (\"apple\", \"banana\", \"cherry\")\n",
    "mytuple = fruits * 2\n",
    "print(mytuple)\n",
    "\n",
    "#method 1 count repetation\n",
    "thistuple = (1, 3, 7, 8, 7, 5, 4, 6, 8, 5)\n",
    "\n",
    "x = thistuple.count(5)\n",
    "\n",
    "print(x)\n",
    "#method 2 index tells the position of value\n",
    "x=thistuple.index(8)\n",
    "print(x)\n"
   ]
  },
  {
   "cell_type": "markdown",
   "id": "04f9654a-8f81-4c6d-ac22-541c6e75a0b6",
   "metadata": {},
   "source": [
    "# 3_Set"
   ]
  },
  {
   "cell_type": "markdown",
   "id": "c3d6bc50-c739-4ddf-b0f9-b2393e29f977",
   "metadata": {},
   "source": [
    "> Set is a collection which is unordered, unchangeable*, and unindexed. No duplicate members.              \n",
    "> Dictionary is a collection which is ordered** and changeable. No duplicate members.\n"
   ]
  },
  {
   "cell_type": "code",
   "execution_count": 16,
   "id": "a5815767-f622-4025-b9d7-e94c5f2aa0aa",
   "metadata": {},
   "outputs": [
    {
     "name": "stdout",
     "output_type": "stream",
     "text": [
      "{1, 2, 3, 4} {'Ali', 12334}\n",
      "{1, 2, 3, 4, 'Ali', 12334}\n",
      "{1, 2, 3, 4, 'Ali'}\n",
      "{1, 2, 3, 4, 10, 'Ali'}\n",
      "{1, 4, 6, 8, 9}\n",
      "{1, 4, 6, 8, 9}\n",
      "{1, 9}\n",
      "set()\n",
      "{1, 9}\n"
     ]
    }
   ],
   "source": [
    "s1 = {1,2,3,4}\n",
    "s2 = {\"Ali\", 12334}\n",
    "print(s1,s2)\n",
    "\n",
    "s2 = s2.union(s1)\n",
    "print(s2)\n",
    "# discard delete in set\n",
    "s2.discard(12334)\n",
    "print(s2)\n",
    "\n",
    "# add_adding in set\n",
    "s2.add(10)\n",
    "print(s2)\n",
    "\n",
    "\n",
    "# union | , interactin &, difference, symmetric_difference\n",
    "\n",
    "s4 = {1,4,6,8}\n",
    "s5 ={1,9}\n",
    "s4 = s4.union(s5)\n",
    "print(s4)\n",
    "#or\n",
    "s4 = s5 | s4\n",
    "print(s4)\n",
    "\n",
    "s4 = s5 & s4\n",
    "print(s4)\n",
    "\n",
    "s4 = s4.difference(s5)\n",
    "print(s4)\n",
    "\n",
    "s4 = s4.symmetric_difference(s5)\n",
    "print(s4)"
   ]
  },
  {
   "cell_type": "code",
   "execution_count": 15,
   "id": "d5dc7610-0dca-4ccc-ad57-49572cd84318",
   "metadata": {},
   "outputs": [
    {
     "name": "stdin",
     "output_type": "stream",
     "text": [
      "Enter your Python marks : 88\n",
      "Enter your Calculus marks : 90\n",
      "Enter your DSA marks : 84\n"
     ]
    },
    {
     "name": "stdout",
     "output_type": "stream",
     "text": [
      "{'python': 88, 'Calculus': 90, 'DSA': 84}\n"
     ]
    }
   ],
   "source": [
    "# WAP to enter marks of 3 subjects from the user and store them in a dictionary. Start with an empty dictionary & add one by one. Use subject name as key & marks as value.\n",
    "\n",
    "marks_dict = {}\n",
    "\n",
    "x = int(input(\"Enter your Python marks :\"))\n",
    "marks_dict.update({\"python\" : x})\n",
    "\n",
    "y= int(input(\"Enter your Calculus marks :\"))\n",
    "marks_dict.update({\"Calculus\" :  y})\n",
    "\n",
    "z= int(input(\"Enter your DSA marks :\"))\n",
    "marks_dict.update({\"DSA\" : z})\n",
    "\n",
    "\n",
    "print(marks_dict)"
   ]
  },
  {
   "cell_type": "code",
   "execution_count": null,
   "id": "fada970b-5591-4fd3-87b4-88e03af3e5a6",
   "metadata": {},
   "outputs": [],
   "source": []
  }
 ],
 "metadata": {
  "kernelspec": {
   "display_name": "Python 3 (ipykernel)",
   "language": "python",
   "name": "python3"
  },
  "language_info": {
   "codemirror_mode": {
    "name": "ipython",
    "version": 3
   },
   "file_extension": ".py",
   "mimetype": "text/x-python",
   "name": "python",
   "nbconvert_exporter": "python",
   "pygments_lexer": "ipython3",
   "version": "3.12.4"
  }
 },
 "nbformat": 4,
 "nbformat_minor": 5
}
