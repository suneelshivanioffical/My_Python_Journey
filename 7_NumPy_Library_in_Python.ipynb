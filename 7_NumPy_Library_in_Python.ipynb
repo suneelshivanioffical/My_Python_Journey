{
 "cells": [
  {
   "cell_type": "markdown",
   "id": "8fb804d9-0df7-4e5a-b4c9-2f68dd6fb60b",
   "metadata": {},
   "source": [
    "# NumPy"
   ]
  },
  {
   "cell_type": "markdown",
   "id": "9ea766a0-e005-444a-b152-1cd25ecec868",
   "metadata": {},
   "source": [
    "> NumPy is a Python library.     \n",
    "> NumPy is used for working with arrays.           \n",
    "> NumPy is short for \"Numerical Python\".\n"
   ]
  },
  {
   "cell_type": "markdown",
   "id": "1c7c6652-2d0e-4403-8270-1b17c1e30c22",
   "metadata": {},
   "source": [
    "## Usage NumPy"
   ]
  },
  {
   "cell_type": "markdown",
   "id": "dd0ce5f9-6cef-4dcc-b892-6261557ddbe1",
   "metadata": {},
   "source": [
    "\n",
    "> In Python we have lists that serve the purpose of arrays, but they are slow to process.         \n",
    "> NumPy aims to provide an array object that is up to 50x faster than traditional Python lists.  \n",
    "> The array object in NumPy is called ndarray, it provides a lot of supporting functions that make working with ndarray very easy.           \n",
    "> Arrays are very frequently used in data science, where speed and resources are very important.\n"
   ]
  },
  {
   "cell_type": "code",
   "execution_count": 2,
   "id": "068a37d0-9bf1-4891-8290-9603176f53b6",
   "metadata": {},
   "outputs": [
    {
     "name": "stdout",
     "output_type": "stream",
     "text": [
      "[1 2 3 4 5]\n"
     ]
    }
   ],
   "source": [
    "import numpy as np\n",
    "arr = np.array([1, 2, 3, 4, 5])\n",
    "print(arr)"
   ]
  },
  {
   "cell_type": "markdown",
   "id": "3d100ad4-11f2-44fb-9bf9-6292785ccee5",
   "metadata": {},
   "source": [
    "## NumPy as np\n",
    "\n",
    ">NumPy is usually imported under the np alias.     \n",
    ">alias: In Python alias are an alternate name for referring to the same thing.\n"
   ]
  },
  {
   "cell_type": "markdown",
   "id": "0ab7f805-8735-4469-b012-0c4b1be1ae18",
   "metadata": {},
   "source": [
    "> Create an alias with the as keyword while importing:"
   ]
  },
  {
   "cell_type": "code",
   "execution_count": 2,
   "id": "616657d6-043b-49ec-a2a8-4dc401fc9f2d",
   "metadata": {},
   "outputs": [
    {
     "name": "stdout",
     "output_type": "stream",
     "text": [
      "[1 2 3 4 5]\n"
     ]
    }
   ],
   "source": [
    "import numpy as np\n",
    "arr = np.array([1, 2, 3, 4, 5])\n",
    "print(arr)\n"
   ]
  },
  {
   "cell_type": "markdown",
   "id": "9842d14f-4980-4da9-a2b4-b7a8ce0cc54d",
   "metadata": {},
   "source": [
    "## Checking NumPy Version\n",
    "> The version string is stored under __version__ attribute.\n"
   ]
  },
  {
   "cell_type": "code",
   "execution_count": 5,
   "id": "4596d21a-0b38-4ea9-ad7b-2825f3b11265",
   "metadata": {},
   "outputs": [
    {
     "name": "stdout",
     "output_type": "stream",
     "text": [
      "1.26.4\n"
     ]
    }
   ],
   "source": [
    "import numpy as np\n",
    "print(np.__version__)\n"
   ]
  },
  {
   "cell_type": "markdown",
   "id": "22954025-20c8-478c-b976-ea967de98ac3",
   "metadata": {},
   "source": [
    "### Create a NumPy ndarray Object\n",
    "> NumPy is used to work with arrays.          \n",
    "> The array object in NumPy is called ndarray.       \n",
    "> We can create a NumPy ndarray object by using the array() function.\n"
   ]
  },
  {
   "cell_type": "markdown",
   "id": "b6a8368d-0e9b-4226-8dd1-e37653cb0e50",
   "metadata": {},
   "source": [
    "> To create an ndarray, we can pass a list, tuple or any array-like object into the array() method, and it will be converted into an ndarray:"
   ]
  },
  {
   "cell_type": "code",
   "execution_count": 6,
   "id": "a80bacb9-ce85-407f-bb73-d36ae364807d",
   "metadata": {},
   "outputs": [
    {
     "data": {
      "text/plain": [
       "array([1, 2, 3, 4, 5])"
      ]
     },
     "execution_count": 6,
     "metadata": {},
     "output_type": "execute_result"
    }
   ],
   "source": [
    "import numpy as np\n",
    "arr = np.array([1, 2, 3, 4, 5])\n",
    "\n",
    "arr\n",
    "\n"
   ]
  },
  {
   "cell_type": "code",
   "execution_count": 7,
   "id": "9b50af17-6fc4-492a-8e50-0a3b35d904ba",
   "metadata": {},
   "outputs": [
    {
     "name": "stdout",
     "output_type": "stream",
     "text": [
      "<class 'numpy.ndarray'>\n"
     ]
    }
   ],
   "source": [
    "print(type(arr))"
   ]
  },
  {
   "cell_type": "code",
   "execution_count": 4,
   "id": "7aa943ad-ee0d-4bde-b80c-d9320a199e0d",
   "metadata": {},
   "outputs": [
    {
     "data": {
      "text/plain": [
       "array([1, 2, 3, 4, 5])"
      ]
     },
     "execution_count": 4,
     "metadata": {},
     "output_type": "execute_result"
    }
   ],
   "source": [
    "import numpy as np\n",
    "l1 = [1, 2, 3, 4, 5]\n",
    "np_1 = np.array(l1)\n",
    "\n",
    "np_1"
   ]
  },
  {
   "cell_type": "markdown",
   "id": "d60d38eb-d2f9-4eb8-b61d-90e15038f854",
   "metadata": {},
   "source": [
    "## Dimensions in Arrays\n",
    "> A dimension in arrays is one level of array depth (nested arrays).\n"
   ]
  },
  {
   "cell_type": "markdown",
   "id": "ae1f0036-63e7-4fe0-8399-922d6663b3fb",
   "metadata": {},
   "source": [
    "#### 0-D Arrays\n",
    "\n",
    "\n",
    "> 0-D arrays, or Scalars, are the elements in an array. Each value in an array is a 0-D array.\n"
   ]
  },
  {
   "cell_type": "code",
   "execution_count": 11,
   "id": "3d25d1ea-4376-409d-80cb-06c410a9c867",
   "metadata": {},
   "outputs": [
    {
     "data": {
      "text/plain": [
       "array(42)"
      ]
     },
     "execution_count": 11,
     "metadata": {},
     "output_type": "execute_result"
    }
   ],
   "source": [
    "import numpy as np\n",
    "arr = np.array(42)\n",
    "\n",
    "arr"
   ]
  },
  {
   "cell_type": "markdown",
   "id": "4766afef-1b48-464a-8503-9d03f64bfc12",
   "metadata": {},
   "source": [
    "#### 1-D Arrays\n",
    "> An array that has 0-D arrays as its elements is called uni-dimensional or 1-D array.     \n",
    "> These are the most common and basic arrays.\n"
   ]
  },
  {
   "cell_type": "code",
   "execution_count": 10,
   "id": "8d1d9bb7-d76b-4a3e-92d6-61295fbc1af7",
   "metadata": {},
   "outputs": [
    {
     "data": {
      "text/plain": [
       "array([1, 2, 3, 4, 5])"
      ]
     },
     "execution_count": 10,
     "metadata": {},
     "output_type": "execute_result"
    }
   ],
   "source": [
    "import numpy as np\n",
    "arr = np.array([1, 2, 3, 4, 5])\n",
    "\n",
    "arr\n"
   ]
  },
  {
   "cell_type": "markdown",
   "id": "a548dc28-8183-4da0-8a5a-db271d16d10f",
   "metadata": {},
   "source": [
    "#### 2-D Arrays\n",
    "> An array that has 1-D arrays as its elements is called a 2-D array.           \n",
    "> These are often used to represent matrix or 2nd order tensors.\n"
   ]
  },
  {
   "cell_type": "code",
   "execution_count": 9,
   "id": "69c1620d-48b1-4436-9ac7-a3aa59c1ff79",
   "metadata": {},
   "outputs": [
    {
     "data": {
      "text/plain": [
       "array([[1, 2, 3],\n",
       "       [4, 5, 6]])"
      ]
     },
     "execution_count": 9,
     "metadata": {},
     "output_type": "execute_result"
    }
   ],
   "source": [
    "import numpy as np\n",
    "arr = np.array([[1, 2, 3], [4, 5, 6]])\n",
    "\n",
    "arr"
   ]
  },
  {
   "cell_type": "markdown",
   "id": "3e91f123-1a96-4619-81c0-caba312621cc",
   "metadata": {},
   "source": [
    "#### 3-D arrays\n",
    "> An array that has 2-D arrays (matrices) as its elements is called 3-D array.       \n",
    "> These are often used to represent a 3rd order tensor.\n"
   ]
  },
  {
   "cell_type": "code",
   "execution_count": 8,
   "id": "4adbbc66-3b3d-4c8d-a973-f9e575a85571",
   "metadata": {},
   "outputs": [
    {
     "data": {
      "text/plain": [
       "array([[[1, 2, 3],\n",
       "        [4, 5, 6]],\n",
       "\n",
       "       [[1, 2, 3],\n",
       "        [4, 5, 6]]])"
      ]
     },
     "execution_count": 8,
     "metadata": {},
     "output_type": "execute_result"
    }
   ],
   "source": [
    "import numpy as np\n",
    "arr = np.array([[[1, 2, 3], [4, 5, 6]], [[1, 2, 3], [4, 5, 6]]])\n",
    "\n",
    "arr"
   ]
  },
  {
   "cell_type": "markdown",
   "id": "866fc0a8-7fb1-4d7f-bf54-ad670bd3149f",
   "metadata": {},
   "source": [
    "The outermost array contains two 2-dimensional arrays.\n",
    "Each 2-dimensional array contains two 1-dimensional arrays.\n",
    "Each 1-dimensional array contains three elements.\n"
   ]
  },
  {
   "cell_type": "markdown",
   "id": "1f5ff9ab-a531-4d35-b8e0-ede1f003afde",
   "metadata": {},
   "source": [
    "#### Check Number of Dimensions?\n",
    "> NumPy Arrays provides the ndim attribute that returns an integer that tells us how many dimensions the array have.\n"
   ]
  },
  {
   "cell_type": "code",
   "execution_count": 13,
   "id": "e1660c55-7757-4750-ba11-88d732c6636c",
   "metadata": {},
   "outputs": [
    {
     "name": "stdout",
     "output_type": "stream",
     "text": [
      "0\n",
      "1\n",
      "2\n",
      "3\n"
     ]
    }
   ],
   "source": [
    "a = np.array(42)\n",
    "b = np.array([1, 2, 3, 4, 5])\n",
    "c = np.array([[1, 2, 3], [4, 5, 6]])\n",
    "d = np.array([[[1, 2, 3], [4, 5, 6], [6,7,8]], [[1, 2, 3], [4, 5, 6],[8,9,0]]])\n",
    "print(a.ndim)\n",
    "print(b.ndim)\n",
    "print(c.ndim)\n",
    "print(d.ndim)\n"
   ]
  },
  {
   "cell_type": "markdown",
   "id": "311cf2f4-5dcf-4fb9-b81c-d08e3fc1829e",
   "metadata": {},
   "source": [
    "#### Higher Dimensional Arrays\n",
    "> An array can have any number of dimensions.        \n",
    "> When the array is created, you can define the number of dimensions by using the ndmin argument.\n"
   ]
  },
  {
   "cell_type": "code",
   "execution_count": 17,
   "id": "679f889e-0282-4b5f-af37-6cddf24491c6",
   "metadata": {},
   "outputs": [
    {
     "name": "stdout",
     "output_type": "stream",
     "text": [
      "[[1 2 3 4]]\n",
      "number of dimensions : 2\n"
     ]
    }
   ],
   "source": [
    "import numpy as np\n",
    "arr = np.array([1, 2, 3, 4], ndmin=2)\n",
    "print(arr)\n",
    "print('number of dimensions :', arr.ndim)"
   ]
  },
  {
   "cell_type": "markdown",
   "id": "6364c437-2535-444d-88a8-d338522301d6",
   "metadata": {},
   "source": [
    "### Access Array Elements\n",
    "> Array indexing is the same as accessing an array element.          \n",
    "> You can access an array element by referring to its index number.           \n",
    "> The indexes in NumPy arrays start with 0, meaning that the first element has index 0, and the second has index 1 etc.\n"
   ]
  },
  {
   "cell_type": "code",
   "execution_count": 18,
   "id": "a8845616-3c31-4df1-94f9-a359cf027271",
   "metadata": {},
   "outputs": [
    {
     "name": "stdout",
     "output_type": "stream",
     "text": [
      "3\n"
     ]
    }
   ],
   "source": [
    "import numpy as np\n",
    "arr = np.array([1, 2, 3, 4])\n",
    "\n",
    "print(arr[2])"
   ]
  },
  {
   "cell_type": "markdown",
   "id": "4d3de026-96e2-483d-8200-15e8803d08a6",
   "metadata": {},
   "source": [
    "Get third and fourth elements from the following array and add them."
   ]
  },
  {
   "cell_type": "code",
   "execution_count": 20,
   "id": "5afacd47-5096-4f31-b0c5-794f5d8c6e5c",
   "metadata": {},
   "outputs": [
    {
     "name": "stdout",
     "output_type": "stream",
     "text": [
      "7\n"
     ]
    }
   ],
   "source": [
    "import numpy as np\n",
    "arr = np.array([1, 2, 3, 4])\n",
    "print(arr[2] + arr[3])"
   ]
  },
  {
   "cell_type": "markdown",
   "id": "6fabae1c-0d7a-4039-bc2e-717f5ef8deae",
   "metadata": {},
   "source": [
    "#### Access 2-D Arrays"
   ]
  },
  {
   "cell_type": "markdown",
   "id": "ea04b45c-038b-4f2f-8b55-a344d315e4ab",
   "metadata": {},
   "source": [
    "> To access elements from 2-D arrays we can use comma separated integers representing the dimension and the index of the element.\n",
    "> Think of 2-D arrays like a table with rows and columns, where the dimension represents the row and the index represents the column.\n"
   ]
  },
  {
   "cell_type": "code",
   "execution_count": 21,
   "id": "09064327-021f-4b7f-be83-d5bd845dfec2",
   "metadata": {},
   "outputs": [
    {
     "name": "stdout",
     "output_type": "stream",
     "text": [
      "2nd element on 1st row:  2\n"
     ]
    }
   ],
   "source": [
    "import numpy as np\n",
    "arr = np.array([[1,2,3,4,5], [6,7,8,9,10]])\n",
    "print('2nd element on 1st row: ', arr[0, 1])\n"
   ]
  },
  {
   "cell_type": "markdown",
   "id": "695c91e0-bf79-47e3-bf3d-2d3a5b11327e",
   "metadata": {},
   "source": [
    "Access the element on the 2nd row, 5th column:"
   ]
  },
  {
   "cell_type": "code",
   "execution_count": 19,
   "id": "ad3eeed0-a9da-4ccf-b17b-f1715ce0d34b",
   "metadata": {},
   "outputs": [
    {
     "name": "stdout",
     "output_type": "stream",
     "text": [
      "5th element on 2nd row:  10\n"
     ]
    }
   ],
   "source": [
    "import numpy as np\n",
    "arr = np.array([[1,2,3,4,5], [6,7,8,9,10]])\n",
    "print('5th element on 2nd row: ', arr[1, 4])\n"
   ]
  },
  {
   "cell_type": "markdown",
   "id": "3adfd7a7-de91-4092-b447-98f565120abd",
   "metadata": {},
   "source": [
    "Access the third element of the second array of the first array:"
   ]
  },
  {
   "cell_type": "code",
   "execution_count": 24,
   "id": "733095eb-3d99-4a60-a9db-191eaa6b168d",
   "metadata": {},
   "outputs": [
    {
     "name": "stdout",
     "output_type": "stream",
     "text": [
      " Third element of the second array : 6\n"
     ]
    }
   ],
   "source": [
    "import numpy as np\n",
    "arr = np.array([[[1, 2, 3], [4, 5, 6]], [[7, 8, 9], [10, 11, 12]]])\n",
    "print(\" Third element of the second array :\", arr[0, 1, 2])\n"
   ]
  },
  {
   "cell_type": "markdown",
   "id": "a5fd60ed-f93a-43bd-8648-f68ca9a46afa",
   "metadata": {},
   "source": [
    "0 refers to the first 2-dimensional array:"
   ]
  },
  {
   "cell_type": "code",
   "execution_count": 24,
   "id": "5a14df16-87cf-4806-a68e-2a3d47a0bdb9",
   "metadata": {},
   "outputs": [
    {
     "data": {
      "text/plain": [
       "[[1, 2, 3], [4, 5, 6]]"
      ]
     },
     "execution_count": 24,
     "metadata": {},
     "output_type": "execute_result"
    }
   ],
   "source": [
    "[\n",
    "  [1, 2, 3],\n",
    "  [4, 5, 6]\n",
    "]\n"
   ]
  },
  {
   "cell_type": "markdown",
   "id": "4599bb0b-67c9-4459-a9b8-a479c9741a27",
   "metadata": {},
   "source": [
    "1 refers to the second 1-dimensional array within the selected 2-dimensional array:[4, 5, 6]"
   ]
  },
  {
   "cell_type": "markdown",
   "id": "d27b07b7-a35e-4c18-aebb-287057d9e155",
   "metadata": {},
   "source": [
    "2 refers to the third element within the selected 1-dimensional array:"
   ]
  },
  {
   "cell_type": "markdown",
   "id": "184247ff-d5e7-4998-a5a5-21cb11b87f31",
   "metadata": {},
   "source": [
    "#### Negative Indexing\n",
    "> Use negative indexing to access an array from the end.\n"
   ]
  },
  {
   "cell_type": "code",
   "execution_count": 25,
   "id": "d77d7abf-0e52-4cf8-8de3-58c3387075a6",
   "metadata": {},
   "outputs": [
    {
     "name": "stdout",
     "output_type": "stream",
     "text": [
      "Last element from 2nd dim:  10\n"
     ]
    }
   ],
   "source": [
    "import numpy as np\n",
    "arr = np.array([[1,2,3,4,5], [6,7,8,9,10]])\n",
    "print('Last element from 2nd dim: ', arr[1, -1])\n"
   ]
  },
  {
   "cell_type": "markdown",
   "id": "aec6c732-daaf-485b-aa45-b02ce051a62f",
   "metadata": {},
   "source": [
    "Slice elements from index 1 to index 5 from the following array:"
   ]
  },
  {
   "cell_type": "code",
   "execution_count": 26,
   "id": "50a1f5dd-700d-4b15-94b9-78d0d676bc81",
   "metadata": {},
   "outputs": [
    {
     "name": "stdout",
     "output_type": "stream",
     "text": [
      "[2 3 4 5]\n"
     ]
    }
   ],
   "source": [
    "import numpy as np\n",
    "arr = np.array([1, 2, 3, 4, 5, 6, 7])\n",
    "print(arr[1:5])"
   ]
  },
  {
   "cell_type": "markdown",
   "id": "c14b46d6-6e60-4202-b9ca-a408ae4c2e7b",
   "metadata": {},
   "source": [
    "#### STEP\n",
    "> Use the step value to determine the step of the slicing:\n"
   ]
  },
  {
   "cell_type": "code",
   "execution_count": 27,
   "id": "5d8aa4d8-54e8-492b-9d29-817b3bdda3ef",
   "metadata": {},
   "outputs": [
    {
     "name": "stdout",
     "output_type": "stream",
     "text": [
      "[2 4]\n"
     ]
    }
   ],
   "source": [
    "import numpy as np\n",
    "arr = np.array([1, 2, 3, 4, 5, 6, 7])\n",
    "print(arr[1:5:2])"
   ]
  },
  {
   "cell_type": "markdown",
   "id": "42a1699c-c4e1-4d41-bf3a-ed8c5d6d1d35",
   "metadata": {},
   "source": [
    "Return every other element from the entire array:"
   ]
  },
  {
   "cell_type": "code",
   "execution_count": 5,
   "id": "b89c8adc-9393-4895-9d1c-8e1b4ea7e07d",
   "metadata": {},
   "outputs": [
    {
     "name": "stdout",
     "output_type": "stream",
     "text": [
      "[1 3 5 7]\n"
     ]
    }
   ],
   "source": [
    "import numpy as np\n",
    "arr = np.array([1, 2, 3, 4, 5, 6, 7])\n",
    "print(arr[::2])\n"
   ]
  },
  {
   "cell_type": "markdown",
   "id": "4cf04daa-d1bc-449f-ba60-f5f5e809ba61",
   "metadata": {},
   "source": [
    "#### Slicing 2-D Arrays\n",
    "> From the second element, slice elements from index 1 to index 4 (not included):\n"
   ]
  },
  {
   "cell_type": "code",
   "execution_count": 29,
   "id": "e3508d2d-87d6-4e9a-86da-d9cfc20229a8",
   "metadata": {},
   "outputs": [
    {
     "name": "stdout",
     "output_type": "stream",
     "text": [
      "[7 8 9]\n"
     ]
    }
   ],
   "source": [
    "import numpy as np\n",
    "arr = np.array([[1, 2, 3, 4, 5], [6, 7, 8, 9, 10]])\n",
    "print(arr[1, 1:4])"
   ]
  },
  {
   "cell_type": "markdown",
   "id": "f3fefb57-4e46-4f24-b623-9e2d2c6401b6",
   "metadata": {},
   "source": [
    "From both elements, return index 2:"
   ]
  },
  {
   "cell_type": "code",
   "execution_count": 30,
   "id": "9f923549-b222-42c1-88b9-2b16053d10c9",
   "metadata": {},
   "outputs": [
    {
     "name": "stdout",
     "output_type": "stream",
     "text": [
      "[3 8]\n"
     ]
    }
   ],
   "source": [
    "import numpy as np\n",
    "arr = np.array([[1, 2, 3, 4, 5], [6, 7, 8, 9, 10]])\n",
    "print(arr[0:2, 2])"
   ]
  },
  {
   "cell_type": "markdown",
   "id": "c4b81f6b-177c-422f-ac62-a9106e9514d1",
   "metadata": {},
   "source": [
    "From both elements, slice index 1 to index 4 (not included), this will return a 2-D array:"
   ]
  },
  {
   "cell_type": "code",
   "execution_count": 31,
   "id": "5333a32f-89f2-4916-8b13-f6149be11f93",
   "metadata": {},
   "outputs": [
    {
     "name": "stdout",
     "output_type": "stream",
     "text": [
      "[[2 3 4]\n",
      " [7 8 9]]\n"
     ]
    }
   ],
   "source": [
    "import numpy as np\n",
    "arr = np.array([[1, 2, 3, 4, 5], [6, 7, 8, 9, 10]])\n",
    "print(arr[0:2, 1:4])"
   ]
  },
  {
   "cell_type": "markdown",
   "id": "bef338ae-e4f1-4a12-a983-8bcb2fbcfd12",
   "metadata": {},
   "source": [
    "#### COPY: \n",
    "\n",
    "Example\n",
    "\n",
    "- Get your own Python Server\n",
    "- Make a copy, change the original array, and display both arrays:\n"
   ]
  },
  {
   "cell_type": "code",
   "execution_count": 32,
   "id": "e4f14c95-91df-4559-a733-b9eb0a29f284",
   "metadata": {},
   "outputs": [
    {
     "name": "stdout",
     "output_type": "stream",
     "text": [
      "[42  2  3  4  5]\n",
      "[1 2 3 4 5]\n"
     ]
    }
   ],
   "source": [
    "import numpy as np\n",
    "arr = np.array([1, 2, 3, 4, 5])\n",
    "x = arr.copy()\n",
    "arr[0] = 42\n",
    "print(arr)\n",
    "print(x)"
   ]
  },
  {
   "cell_type": "markdown",
   "id": "132cb973-254a-4d07-832a-61bed5149b33",
   "metadata": {},
   "source": [
    "#### VIEW:\n",
    "\n",
    "Example\n",
    "\n",
    "- Make a view, change the original array, and display both arrays:\n"
   ]
  },
  {
   "cell_type": "code",
   "execution_count": 33,
   "id": "5a9df0b5-57b0-4e2e-a842-3b97479cb7d0",
   "metadata": {},
   "outputs": [
    {
     "name": "stdout",
     "output_type": "stream",
     "text": [
      "[42  2  3  4  5]\n",
      "[42  2  3  4  5]\n"
     ]
    }
   ],
   "source": [
    "import numpy as np\n",
    "arr = np.array([1, 2, 3, 4, 5])\n",
    "x = arr.view()\n",
    "arr[0] = 42\n",
    "print(arr)\n",
    "print(x)"
   ]
  },
  {
   "cell_type": "markdown",
   "id": "100540c9-b25b-433b-a3f7-4cb5aaf5dce6",
   "metadata": {},
   "source": [
    "###\n",
    "Get the Shape of an Array"
   ]
  },
  {
   "cell_type": "code",
   "execution_count": 37,
   "id": "b320092e-6084-427c-a07c-66b960b482cc",
   "metadata": {},
   "outputs": [
    {
     "name": "stdout",
     "output_type": "stream",
     "text": [
      "(2, 4)\n"
     ]
    }
   ],
   "source": [
    "import numpy as np\n",
    "arr = np.array([[1, 2, 3, 4], [5, 6, 7, 8]])\n",
    "print(arr.shape)\n",
    "# The array consists of 2 rows.\n",
    "# Each row contains 4 elements."
   ]
  },
  {
   "cell_type": "markdown",
   "id": "a5097107-ccc7-4ccd-8f13-2b56b9fb7e3a",
   "metadata": {},
   "source": [
    "#### Iterating Arrays\n",
    "\n",
    "> Iterating means going through elements one by one.               \n",
    "> As we deal with multi-dimensional arrays in numpy, we can do this using basic for loop of python.        \n",
    "> If we iterate on a 1-D array it will go through each element one by one.\n"
   ]
  },
  {
   "cell_type": "code",
   "execution_count": 39,
   "id": "b58039a9-cd74-4b35-a09a-04f4cb1f539a",
   "metadata": {},
   "outputs": [
    {
     "name": "stdout",
     "output_type": "stream",
     "text": [
      "1\n",
      "2\n",
      "3\n"
     ]
    }
   ],
   "source": [
    "import numpy as np\n",
    "arr = np.array([1, 2, 3])\n",
    "for x in arr:\n",
    "  print(x)"
   ]
  },
  {
   "cell_type": "markdown",
   "id": "552012f2-689f-4462-aa9e-b1d2d8c6ca13",
   "metadata": {},
   "source": [
    "#### Iterating 2-D Arrays\n",
    "> In a 2-D array it will go through all the rows.\n"
   ]
  },
  {
   "cell_type": "code",
   "execution_count": 40,
   "id": "82ed2685-d888-4df4-a97f-5511f10baf0b",
   "metadata": {},
   "outputs": [
    {
     "name": "stdout",
     "output_type": "stream",
     "text": [
      "[1 2 3]\n",
      "[4 5 6]\n"
     ]
    }
   ],
   "source": [
    "import numpy as np\n",
    "arr = np.array([[1, 2, 3], [4, 5, 6]])\n",
    "for x in arr:\n",
    "  print(x)"
   ]
  },
  {
   "cell_type": "markdown",
   "id": "168ac4e3-2b60-4f99-8e1d-d3c39bc6d77c",
   "metadata": {},
   "source": [
    "Iterate on each scalar element of the 2-D array:"
   ]
  },
  {
   "cell_type": "code",
   "execution_count": 41,
   "id": "084f6713-8088-4f84-8d07-4945c9e96e78",
   "metadata": {},
   "outputs": [
    {
     "name": "stdout",
     "output_type": "stream",
     "text": [
      "1\n",
      "2\n",
      "3\n",
      "4\n",
      "5\n",
      "6\n"
     ]
    }
   ],
   "source": [
    "import numpy as np\n",
    "\n",
    "arr = np.array([[1, 2, 3], [4, 5, 6]])\n",
    "for x in arr:\n",
    "  for y in x:\n",
    "    print(y)\n"
   ]
  },
  {
   "cell_type": "markdown",
   "id": "c77f9680-6902-4a80-b60e-55e370bc3ffd",
   "metadata": {},
   "source": [
    "#### Iterating 3-D Arrays\n",
    "> In a 3-D array it will go through all the 2-D arrays.\n"
   ]
  },
  {
   "cell_type": "code",
   "execution_count": 42,
   "id": "ebf5c578-e160-4d5f-847d-335afe3fff4a",
   "metadata": {},
   "outputs": [
    {
     "name": "stdout",
     "output_type": "stream",
     "text": [
      "[[1 2 3]\n",
      " [4 5 6]]\n",
      "[[ 7  8  9]\n",
      " [10 11 12]]\n"
     ]
    }
   ],
   "source": [
    "import numpy as np\n",
    "arr = np.array([[[1, 2, 3], [4, 5, 6]], [[7, 8, 9], [10, 11, 12]]])\n",
    "for x in arr:\n",
    "  print(x)\n"
   ]
  },
  {
   "cell_type": "markdown",
   "id": "f40caaf2-1d3c-496b-b485-2e5aef240d11",
   "metadata": {},
   "source": [
    "To return the actual values, the scalars, we have to iterate the arrays in each dimension."
   ]
  },
  {
   "cell_type": "code",
   "execution_count": 1,
   "id": "63fe9c40-3efa-4790-b071-b239abf5df99",
   "metadata": {
    "scrolled": true
   },
   "outputs": [
    {
     "name": "stdout",
     "output_type": "stream",
     "text": [
      "1\n",
      "2\n",
      "3\n",
      "4\n",
      "5\n",
      "6\n",
      "7\n",
      "8\n",
      "9\n",
      "10\n",
      "11\n",
      "12\n"
     ]
    }
   ],
   "source": [
    "import numpy as np\n",
    "arr = np.array([[[1, 2, 3], [4, 5, 6]], [[7, 8, 9], [10, 11, 12]]])\n",
    "for x in arr:\n",
    "  for y in x:\n",
    "    for z in y:\n",
    "      print(z)\n"
   ]
  },
  {
   "cell_type": "markdown",
   "id": "ae2a5e2d-50f5-40e3-a669-aeccf6da99a2",
   "metadata": {},
   "source": [
    "### Function in NumPArray"
   ]
  },
  {
   "cell_type": "markdown",
   "id": "29a450b9-8adb-403e-8184-90c1fb414c2f",
   "metadata": {},
   "source": [
    "> List : range() ,         NumPy : arange()"
   ]
  },
  {
   "cell_type": "code",
   "execution_count": 47,
   "id": "05febfe8-fd6f-447f-a6d1-c279019de62a",
   "metadata": {},
   "outputs": [
    {
     "data": {
      "text/plain": [
       "[0, 1, 2, 3, 4, 5, 6, 7, 8, 9]"
      ]
     },
     "execution_count": 47,
     "metadata": {},
     "output_type": "execute_result"
    }
   ],
   "source": [
    "[i for i in range(0,10)]"
   ]
  },
  {
   "cell_type": "code",
   "execution_count": 48,
   "id": "a206e352-b2bc-4cbf-b301-a321eae7db55",
   "metadata": {},
   "outputs": [
    {
     "data": {
      "text/plain": [
       "[0, 2, 4, 6, 8]"
      ]
     },
     "execution_count": 48,
     "metadata": {},
     "output_type": "execute_result"
    }
   ],
   "source": [
    "#_add stepping\n",
    "\n",
    "[i for i in range(0,10,2)]"
   ]
  },
  {
   "cell_type": "code",
   "execution_count": 49,
   "id": "e763afc6-3be5-4f3b-b693-a71a4b3acca2",
   "metadata": {},
   "outputs": [
    {
     "data": {
      "text/plain": [
       "array([0, 1, 2, 3, 4, 5, 6, 7, 8, 9])"
      ]
     },
     "execution_count": 49,
     "metadata": {},
     "output_type": "execute_result"
    }
   ],
   "source": [
    "np.arange(0,10)"
   ]
  },
  {
   "cell_type": "code",
   "execution_count": 50,
   "id": "8ba3dac9-7681-41e1-a5e9-7c79143d086f",
   "metadata": {},
   "outputs": [
    {
     "data": {
      "text/plain": [
       "array([ 0,  5, 10, 15, 20, 25, 30, 35, 40, 45, 50, 55, 60, 65, 70, 75, 80,\n",
       "       85, 90, 95])"
      ]
     },
     "execution_count": 50,
     "metadata": {},
     "output_type": "execute_result"
    }
   ],
   "source": [
    "#_add stepping\n",
    "np.arange(0,100,5)"
   ]
  },
  {
   "cell_type": "markdown",
   "id": "d1490f48-400c-4ec2-96d3-0caffc8f95d3",
   "metadata": {},
   "source": [
    "#### Question \n",
    "\n",
    "> You are a teacher who has a list of student grades for a recent exam. The grades are stored in a NumPy array. You need to sort these grades in ascending and descending order for analysis and Show the:                \n",
    "A.\tSort the array of grades in ascending order.                   \n",
    "B.\tSort the array of grades in descending order.                     \n",
    "Sort the grades while maintaining the correspondence with student names.                   \n"
   ]
  },
  {
   "cell_type": "markdown",
   "id": "f712bad2-873d-4824-9c9b-fcd62cf7bb4b",
   "metadata": {},
   "source": [
    "####  Random_Function"
   ]
  },
  {
   "cell_type": "code",
   "execution_count": 51,
   "id": "5b9015d7-1989-4e84-9bcd-c07148ec1bda",
   "metadata": {},
   "outputs": [
    {
     "data": {
      "text/plain": [
       "array([[0.32134778, 0.65605732, 0.4557302 ],\n",
       "       [0.32281874, 0.17563099, 0.66217676]])"
      ]
     },
     "execution_count": 51,
     "metadata": {},
     "output_type": "execute_result"
    }
   ],
   "source": [
    "# Random\n",
    "# A numpy array of the specificed shape and element will be btw 0-1 random.\n",
    "\n",
    "np.random.random((2,3))"
   ]
  },
  {
   "cell_type": "code",
   "execution_count": 9,
   "id": "e2777723-a5a5-48b4-981f-02916af62a80",
   "metadata": {},
   "outputs": [
    {
     "data": {
      "text/plain": [
       "'Tails'"
      ]
     },
     "execution_count": 9,
     "metadata": {},
     "output_type": "execute_result"
    }
   ],
   "source": [
    "l1 = [\"Heads\",\"Tails\"]\n",
    "np.random.choice(l1)\n",
    "\n",
    "# It will return a random str value in define in list btw a specificed range"
   ]
  },
  {
   "cell_type": "code",
   "execution_count": 8,
   "id": "fb5f6321-b3dc-4eb6-89c7-17dfb989db02",
   "metadata": {},
   "outputs": [
    {
     "data": {
      "text/plain": [
       "98"
      ]
     },
     "execution_count": 8,
     "metadata": {},
     "output_type": "execute_result"
    }
   ],
   "source": [
    "np.random.randint(0,100)\n",
    "\n",
    "# It will return a random int number btw a specificed range"
   ]
  },
  {
   "cell_type": "code",
   "execution_count": 5,
   "id": "04b90687-8783-4be8-bc4b-c52a16419cb8",
   "metadata": {},
   "outputs": [
    {
     "data": {
      "text/plain": [
       "array([-0.2280489 , -0.75743892,  0.51627121, -0.1981915 ,  1.36145485])"
      ]
     },
     "execution_count": 5,
     "metadata": {},
     "output_type": "execute_result"
    }
   ],
   "source": [
    "np.random.randn(5)\n",
    "\n",
    "# Random 5 element"
   ]
  },
  {
   "cell_type": "markdown",
   "id": "d0a2f904-8b6c-471a-8180-c10da8a301fd",
   "metadata": {},
   "source": [
    "### Pandas filing and matplotlib"
   ]
  },
  {
   "cell_type": "code",
   "execution_count": 44,
   "id": "dd02a043-e046-45ef-b525-369b8955bc3f",
   "metadata": {},
   "outputs": [
    {
     "name": "stdout",
     "output_type": "stream",
     "text": [
      "CSV file 'ExamResult.csv' created successfully.\n",
      "   Subject  Passed  Failed\n",
      "0     Math      30      10\n",
      "1  Science      25      15\n",
      "2  History      20      20\n",
      "3  English      28      12\n",
      "4      Art      22      18\n"
     ]
    },
    {
     "data": {
      "image/png": "[encoded data removed]",
      "text/plain": [
       "<Figure size 1000x600 with 1 Axes>"
      ]
     },
     "metadata": {},
     "output_type": "display_data"
    }
   ],
   "source": [
    "import csv\n",
    "import pandas as pd\n",
    "import matplotlib.pyplot as plt\n",
    "\n",
    "data = [\n",
    "    [\"Subject\", \"Passed\", \"Failed\"],\n",
    "    [\"Math\", 30, 10],\n",
    "    [\"Science\", 25, 15],\n",
    "    [\"History\", 20, 20],\n",
    "    [\"English\", 28, 12],\n",
    "    [\"Art\", 22, 18]\n",
    "]\n",
    "\n",
    "with open('ExamResult.csv', 'w', newline='') as file:\n",
    "    writer = csv.writer(file)\n",
    "    writer.writerows(data)\n",
    "\n",
    "print(\"CSV file 'ExamResult.csv' created successfully.\")\n",
    "\n",
    "\n",
    "# Step 2: Read the CSV file into a DataFrame\n",
    "df = pd.read_csv('ExamResult.csv')\n",
    "\n",
    "# Check the content of the DataFrame\n",
    "print(df)\n",
    "\n",
    "\n",
    "# Step 3: Plot the data\n",
    "plt.figure(figsize=(10, 6))\n",
    "\n",
    "# Plot passed data\n",
    "plt.bar(df['Subject'], df['Passed'], label='Passed', color='green')\n",
    "\n",
    "# Plot failed data\n",
    "plt.bar(df['Subject'], df['Failed'], bottom=df['Passed'], label='Failed', color='red')\n",
    "\n",
    "# Add title and labels\n",
    "plt.title('Passed and Failed Students by Subject')\n",
    "plt.xlabel('Subject')\n",
    "plt.ylabel('Number of Students')\n",
    "\n",
    "# Add legend\n",
    "plt.legend()\n",
    "\n",
    "# Show the plot\n",
    "plt.tight_layout()\n",
    "plt.show()\n",
    "#print(data)\n"
   ]
  }
 ],
 "metadata": {
  "kernelspec": {
   "display_name": "Python 3 (ipykernel)",
   "language": "python",
   "name": "python3"
  },
  "language_info": {
   "codemirror_mode": {
    "name": "ipython",
    "version": 3
   },
   "file_extension": ".py",
   "mimetype": "text/x-python",
   "name": "python",
   "nbconvert_exporter": "python",
   "pygments_lexer": "ipython3",
   "version": "3.12.4"
  }
 },
 "nbformat": 4,
 "nbformat_minor": 5
}
