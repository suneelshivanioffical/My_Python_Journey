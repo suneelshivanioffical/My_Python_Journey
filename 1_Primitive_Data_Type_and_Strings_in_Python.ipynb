{
 "cells": [
  {
   "cell_type": "markdown",
   "id": "dc8888c7-8bfa-446a-a6ec-e93f3bda7ab6",
   "metadata": {},
   "source": [
    "# Data_Types in Python"
   ]
  },
  {
   "cell_type": "raw",
   "id": "65bd52bd-46bb-4a81-bdb9-2ba898ee9225",
   "metadata": {},
   "source": [
    "Primitive_Type\n",
    "\n",
    "1_Intetger\n",
    "2_Floating\n",
    "3_Boolean\n",
    "\n",
    "String\n",
    "\n",
    "1_String         \n",
    "2_Slicing_&_Indexing        \n",
    "3_String_class_methods"
   ]
  },
  {
   "cell_type": "markdown",
   "id": "3028a405-c04a-4d3e-9ed7-b6a208a162cc",
   "metadata": {},
   "source": [
    "> ### Primary_Data_types_in_Python:\n",
    "\n",
    "-1_Strings (use for text analysis)\n",
    "2_Integers\n",
    "3_Floating\n",
    "- 4_Boolean"
   ]
  },
  {
   "cell_type": "code",
   "execution_count": 1,
   "id": "65547226-aa1d-46c6-b54e-b8ae2e6090fb",
   "metadata": {},
   "outputs": [
    {
     "name": "stdout",
     "output_type": "stream",
     "text": [
      "<class 'str'>\n",
      "<class 'int'>\n",
      "<class 'float'>\n",
      "<class 'bool'>\n"
     ]
    }
   ],
   "source": [
    "name = \"Suneel Shivani\"\n",
    "age = 21\n",
    "age2= 21.0\n",
    "yonger = True\n",
    "\n",
    "print(type(name))\n",
    "print(type(age))\n",
    "print(type(age2))\n",
    "print(type(yonger))"
   ]
  },
  {
   "cell_type": "markdown",
   "id": "e0dd0f02-a369-4863-95d8-f26a61ecaede",
   "metadata": {},
   "source": [
    "> #### Integer"
   ]
  },
  {
   "cell_type": "code",
   "execution_count": 2,
   "id": "49d04945-db49-463b-b709-639e8a3b884a",
   "metadata": {},
   "outputs": [
    {
     "name": "stdout",
     "output_type": "stream",
     "text": [
      "5\n"
     ]
    }
   ],
   "source": [
    "age = 5\n",
    "print(age)"
   ]
  },
  {
   "cell_type": "markdown",
   "id": "e365f37f-466e-4763-8668-7d7057f124c3",
   "metadata": {},
   "source": [
    "> #### Floating/in_Decimal"
   ]
  },
  {
   "cell_type": "code",
   "execution_count": 4,
   "id": "6d8ef8bc-4b3b-4381-95c3-44c4bbe45a1d",
   "metadata": {},
   "outputs": [
    {
     "name": "stdout",
     "output_type": "stream",
     "text": [
      "100.0\n"
     ]
    }
   ],
   "source": [
    "price = 100.0\n",
    "print(price)"
   ]
  },
  {
   "cell_type": "markdown",
   "id": "98aafa4c-e14b-4770-b33a-35a0a64e6c93",
   "metadata": {},
   "source": [
    "> #### Boolean"
   ]
  },
  {
   "cell_type": "code",
   "execution_count": 3,
   "id": "6b91a2ab-2bec-4abd-bb4c-34f3007f7142",
   "metadata": {},
   "outputs": [
    {
     "name": "stdout",
     "output_type": "stream",
     "text": [
      "you elgilbilty to vote is? True\n",
      "10000.0\n"
     ]
    }
   ],
   "source": [
    "brith_year = 1947\n",
    "age = 2024 - brith_year\n",
    "criteria = 18\n",
    "elgibilty = age >= criteria\n",
    "print(\"you elgilbilty to vote is?\", elgibilty)\n",
    "\n",
    "# Assignment 1\n",
    "\n",
    "#applicant_income = 50000\n",
    "is_good_credit = True\n",
    "price_of_house = 100000\n",
    "#discount = 10/100 #True\n",
    "\n",
    "#elgibilty = applicant_income >= 50000\n",
    "#print(\"You elgibilable for discount is :\", discount)\n",
    "\n",
    "applicant_income = 0.1*price_of_house if is_good_credit else 0.2*price_of_house\n",
    "print(applicant_income)"
   ]
  },
  {
   "cell_type": "markdown",
   "id": "5692df63-9a41-4ede-a5c8-35f7d380b6b7",
   "metadata": {},
   "source": [
    "# Strings"
   ]
  },
  {
   "cell_type": "code",
   "execution_count": 5,
   "id": "613ed6c0-fa20-4f67-9bd3-19ebb781fb48",
   "metadata": {},
   "outputs": [
    {
     "name": "stdout",
     "output_type": "stream",
     "text": [
      "Hello World\n",
      "Suneel Shivani\n",
      "Hello Students. \n",
      "Hey, Good Morning Dear.\n",
      "My name is Suneel.\n",
      "My age is 21.\n",
      "My name is Suneel, My age is 21.\n",
      "23\n"
     ]
    }
   ],
   "source": [
    "#_Print_Strings_as_output_on_screen\n",
    "\n",
    "print(\"Hello World\")\n",
    "print(\"Suneel Shivani\")\n",
    "print(\"Hello Students. \")\n",
    "print(\"Hey, Good Morning Dear.\")\n",
    "print(\"My name is Suneel.\")\n",
    "print(\"My age is 21.\")\n",
    "print(\"My name is Suneel,\", \"My age is 21.\")\n",
    "print(\"23\")"
   ]
  },
  {
   "cell_type": "markdown",
   "id": "5f955671-1179-42cf-bcb0-589bd2e3c73a",
   "metadata": {},
   "source": [
    "> #### String_Slicing"
   ]
  },
  {
   "cell_type": "code",
   "execution_count": 6,
   "id": "af6e540c-9685-4529-9912-7b4b6f59df70",
   "metadata": {},
   "outputs": [
    {
     "name": "stdout",
     "output_type": "stream",
     "text": [
      "username\n",
      "user\n",
      "domain.com\n",
      "Aleem\n"
     ]
    }
   ],
   "source": [
    "str = email = \"username@domain.com\"\n",
    "print(str[0:8])\n",
    "print(str[:4]) #_print(str[0:4])\n",
    "print(str[9:]) #_print(str[9:len(str)])\n",
    "\n",
    "str = name ='Aleem'\n",
    "print(str[0:5]) #RangeFind"
   ]
  },
  {
   "cell_type": "markdown",
   "id": "82599f6d-5f1f-47f7-9fd3-c7fc4edeb83f",
   "metadata": {},
   "source": [
    "> #### String_Indexing"
   ]
  },
  {
   "cell_type": "code",
   "execution_count": 7,
   "id": "1185b2a8-5d60-4baf-8d6a-03b568f2831b",
   "metadata": {},
   "outputs": [
    {
     "name": "stdout",
     "output_type": "stream",
     "text": [
      "S\n",
      "h\n",
      "i\n"
     ]
    }
   ],
   "source": [
    "str = name = \"Suneel Shivani\"\n",
    "\n",
    "print(str[0])\n",
    "print(str[8])\n",
    "print(str[9])"
   ]
  },
  {
   "cell_type": "markdown",
   "id": "bbde4be6-158c-45cf-97e6-61a8330bc8f7",
   "metadata": {},
   "source": [
    "> #### String_class_methods_or_Strings_functions"
   ]
  },
  {
   "cell_type": "code",
   "execution_count": 8,
   "id": "9b811f6f-bfef-464d-9c2d-c1b30696237c",
   "metadata": {},
   "outputs": [
    {
     "name": "stdout",
     "output_type": "stream",
     "text": [
      "SUNEEL SHIVANI\n",
      "suneel shivani\n",
      "8\n",
      "Suneel Sharma\n",
      "True\n",
      "11\n",
      "2\n",
      "14\n",
      "['xyz', 'domain.com']\n"
     ]
    }
   ],
   "source": [
    "str = name = \"Suneel Shivani\"\n",
    "\n",
    "print(name.upper())\n",
    "print(name.lower())\n",
    "print(name.find('h'))\n",
    "\n",
    "print(name.replace(\"Shivani\", \"Sharma\" ))\n",
    "print(\"i\" in name)\n",
    "print(name.index('a'))\n",
    "print(name.count('i'))\n",
    "\n",
    "print(len(str)) #_Find_the_Lenght_of_words.\n",
    "\n",
    "#_\n",
    "\n",
    "email = 'xyz@domain.com'\n",
    "domain_name = email.split(\"@\")\n",
    "print(domain_name)"
   ]
  },
  {
   "cell_type": "code",
   "execution_count": null,
   "id": "0354ab93-b2f2-45d0-9731-d9d28fae53bc",
   "metadata": {},
   "outputs": [],
   "source": []
  }
 ],
 "metadata": {
  "kernelspec": {
   "display_name": "Python 3 (ipykernel)",
   "language": "python",
   "name": "python3"
  },
  "language_info": {
   "codemirror_mode": {
    "name": "ipython",
    "version": 3
   },
   "file_extension": ".py",
   "mimetype": "text/x-python",
   "name": "python",
   "nbconvert_exporter": "python",
   "pygments_lexer": "ipython3",
   "version": "3.12.4"
  }
 },
 "nbformat": 4,
 "nbformat_minor": 5
}
