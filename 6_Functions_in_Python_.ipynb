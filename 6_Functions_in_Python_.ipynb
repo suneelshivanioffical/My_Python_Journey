{
 "cells": [
  {
   "cell_type": "markdown",
   "id": "b6ae5cb1-7724-4e74-a377-a12cd7f38ac7",
   "metadata": {},
   "source": [
    "# Function"
   ]
  },
  {
   "cell_type": "markdown",
   "id": "b2dc442f-c5ab-46e5-a564-de0aab3a932b",
   "metadata": {},
   "source": [
    ">\tA function is a block of code which only runs when it is called.                 \n",
    ">\tYou can pass data, known as parameters, into a function.                    \n",
    ">\tA function can return data as a result. \n"
   ]
  },
  {
   "cell_type": "code",
   "execution_count": 1,
   "id": "3eb7eeab-bb85-48a6-a836-6b4e440fc52c",
   "metadata": {},
   "outputs": [
    {
     "name": "stdout",
     "output_type": "stream",
     "text": [
      "Hello, Greeting\n"
     ]
    }
   ],
   "source": [
    "def mymeeting():\n",
    "    print(\"Hello, Greeting\")\n",
    "\n",
    "mymeeting()"
   ]
  },
  {
   "cell_type": "code",
   "execution_count": 4,
   "id": "1838c80a-da0c-421d-b014-c9300b0c4196",
   "metadata": {},
   "outputs": [
    {
     "name": "stdout",
     "output_type": "stream",
     "text": [
      "3\n"
     ]
    }
   ],
   "source": [
    "def add(a,b):\n",
    "  total = a + b\n",
    "  print(total)\n",
    "\n",
    "add(1,2)"
   ]
  },
  {
   "cell_type": "code",
   "execution_count": 5,
   "id": "0ecacd2c-68dc-49c1-8d12-7e98adf66359",
   "metadata": {},
   "outputs": [
    {
     "name": "stdout",
     "output_type": "stream",
     "text": [
      "Hello Adil\n",
      "Salam Adil\n"
     ]
    }
   ],
   "source": [
    "def mychildren(greet = \"Hello\"):\n",
    "  print(greet, \"Adil\")\n",
    "\n",
    "mychildren()\n",
    "mychildren(\"Salam\")"
   ]
  },
  {
   "cell_type": "code",
   "execution_count": 10,
   "id": "d26639b5-7a91-4784-9436-453b4f62bb86",
   "metadata": {},
   "outputs": [
    {
     "name": "stdout",
     "output_type": "stream",
     "text": [
      "The area of cricle is : 78.5\n"
     ]
    }
   ],
   "source": [
    "def calculate_AREA_OF_CRICLE(radius):\n",
    "  print(\"The area of cricle is :\",3.14*radius*radius)\n",
    "\n",
    "calculate_AREA_OF_CRICLE(5)"
   ]
  },
  {
   "cell_type": "code",
   "execution_count": 11,
   "id": "5f4234c4-84c8-45e9-bb8a-460acf7e33af",
   "metadata": {},
   "outputs": [
    {
     "data": {
      "text/plain": [
       "78.5"
      ]
     },
     "execution_count": 11,
     "metadata": {},
     "output_type": "execute_result"
    }
   ],
   "source": [
    "def AreaOfCricle(radius):\n",
    "  pi = 3.14\n",
    "  area_of_cricle = pi * radius * radius\n",
    "  return area_of_cricle\n",
    "\n",
    "AreaOfCricle(5)"
   ]
  },
  {
   "cell_type": "code",
   "execution_count": 12,
   "id": "469a2d73-3a66-4949-baff-b2c21e9b2198",
   "metadata": {},
   "outputs": [
    {
     "data": {
      "text/plain": [
       "68.0"
      ]
     },
     "execution_count": 12,
     "metadata": {},
     "output_type": "execute_result"
    }
   ],
   "source": [
    "def temp_converter(celsius):\n",
    "  fahrenheit = (celsius * 9/5) + 32\n",
    "  return fahrenheit\n",
    "\n",
    "temp_converter(20)"
   ]
  },
  {
   "cell_type": "code",
   "execution_count": 13,
   "id": "6d04b290-0cde-4a85-99dc-82bc5a3586df",
   "metadata": {},
   "outputs": [
    {
     "data": {
      "text/plain": [
       "20.0"
      ]
     },
     "execution_count": 13,
     "metadata": {},
     "output_type": "execute_result"
    }
   ],
   "source": [
    "def temp_converter(fahrenheit):\n",
    "  celsius = (fahrenheit - 32) * 5/9\n",
    "  return celsius\n",
    "\n",
    "temp_converter(68)"
   ]
  },
  {
   "cell_type": "code",
   "execution_count": 14,
   "id": "e049fbe2-fe83-452a-a966-f23549d9aade",
   "metadata": {},
   "outputs": [
    {
     "data": {
      "text/plain": [
       "32.0"
      ]
     },
     "execution_count": 14,
     "metadata": {},
     "output_type": "execute_result"
    }
   ],
   "source": [
    "def CalculateAverage(score):\n",
    "  total_score = sum(score)\n",
    "  average = total_score / len(score)\n",
    "  return average\n",
    "\n",
    "CalculateAverage([10,20,30,40,60])"
   ]
  },
  {
   "cell_type": "code",
   "execution_count": 15,
   "id": "8d750bfe-9f4b-4671-9285-14137265429c",
   "metadata": {},
   "outputs": [
    {
     "name": "stdout",
     "output_type": "stream",
     "text": [
      "[10, 20, 30]\n"
     ]
    },
    {
     "data": {
      "text/plain": [
       "20.0"
      ]
     },
     "execution_count": 15,
     "metadata": {},
     "output_type": "execute_result"
    }
   ],
   "source": [
    "def CalculateAverage(score):\n",
    "  total_score = sum(score)\n",
    "  total_number_student = len(score)\n",
    "  average = total_score / total_number_student\n",
    "  return average\n",
    "\n",
    "score_variable = []\n",
    "score_variable.append(10)\n",
    "score_variable.append(20)\n",
    "score_variable.append(30)\n",
    "print(score_variable)\n",
    "\n",
    "CalculateAverage(score_variable)"
   ]
  },
  {
   "cell_type": "markdown",
   "id": "e075b0b5-c9f2-4d32-a61b-633caad0ac93",
   "metadata": {},
   "source": [
    "### Lamda_Function"
   ]
  },
  {
   "cell_type": "markdown",
   "id": "8b728c19-f07e-4d92-969b-9effd9c3062c",
   "metadata": {},
   "source": [
    "> Lambda functions are similar to user-defined functions but without a name. They're commonly referred to as anonymous functions. Lambda functions are efficient whenever you want to create a function that will only contain simple expressions – that is, expressions that are usually a single line of a statement"
   ]
  },
  {
   "cell_type": "markdown",
   "id": "3e99b59a-09f2-4071-9752-bd2fe9702b28",
   "metadata": {},
   "source": [
    "> Syntax :                                             \n",
    "lambda arguments : expression\n"
   ]
  },
  {
   "cell_type": "code",
   "execution_count": 16,
   "id": "661283f2-53eb-41bc-bddd-5aad05dd1fc5",
   "metadata": {},
   "outputs": [
    {
     "name": "stdout",
     "output_type": "stream",
     "text": [
      "8\n"
     ]
    }
   ],
   "source": [
    "x = lambda a: a*2\n",
    "print(x(4))"
   ]
  },
  {
   "cell_type": "code",
   "execution_count": 17,
   "id": "436d0b64-14d1-4679-aa5a-acef601a3ebd",
   "metadata": {},
   "outputs": [
    {
     "name": "stdout",
     "output_type": "stream",
     "text": [
      "7\n"
     ]
    }
   ],
   "source": [
    "y = lambda a: a+3\n",
    "print(y(4))"
   ]
  },
  {
   "cell_type": "code",
   "execution_count": 27,
   "id": "5e48f7c0-c005-4fbe-b902-7247b290a419",
   "metadata": {},
   "outputs": [
    {
     "name": "stdout",
     "output_type": "stream",
     "text": [
      "30\n",
      "13\n"
     ]
    }
   ],
   "source": [
    "x = lambda a, b : a * b\n",
    "print(x(5, 6))\n",
    "\n",
    "x = lambda a, b, c : a + b + c\n",
    "print(x(5, 6, 2))\n"
   ]
  },
  {
   "cell_type": "markdown",
   "id": "fcfe4a33-89c2-41c5-a8a2-3813173f01c3",
   "metadata": {},
   "source": [
    "### Usage of Lamda Function in map() and fliter()"
   ]
  },
  {
   "cell_type": "markdown",
   "id": "6f96377b-7c0c-4180-ab3f-80408f3b73b7",
   "metadata": {},
   "source": [
    "> map_filter_list_comprehension_stacks"
   ]
  },
  {
   "cell_type": "code",
   "execution_count": 18,
   "id": "0bbb74d4-6448-4bdf-9d4c-3d93a29af157",
   "metadata": {},
   "outputs": [
    {
     "name": "stdout",
     "output_type": "stream",
     "text": [
      "[100, 200, 300]\n"
     ]
    }
   ],
   "source": [
    "items = [\n",
    "    (\"Product1\", 100),\n",
    "    (\"Product2\", 200),\n",
    "    (\"Product3\", 300),\n",
    "]\n",
    "price = []\n",
    "for item in items:\n",
    "  price.append(item[1])\n",
    "print(price)"
   ]
  },
  {
   "cell_type": "code",
   "execution_count": 19,
   "id": "3d15b064-86cb-4262-adf0-a8eb7ad90cc8",
   "metadata": {},
   "outputs": [
    {
     "name": "stdout",
     "output_type": "stream",
     "text": [
      "[100, 200, 300]\n"
     ]
    }
   ],
   "source": [
    "price = map(lambda item:item[1], items)\n",
    "print(list(price))"
   ]
  },
  {
   "cell_type": "code",
   "execution_count": 20,
   "id": "c833c322-3e35-491f-b279-654ef3f543fb",
   "metadata": {},
   "outputs": [
    {
     "name": "stdout",
     "output_type": "stream",
     "text": [
      "[100, 200, 300]\n"
     ]
    }
   ],
   "source": [
    "price = list(map(lambda item:item[1], items))\n",
    "print(price)"
   ]
  },
  {
   "cell_type": "code",
   "execution_count": 21,
   "id": "9b5b6b16-fb0a-4dba-a9bf-046a8bf89f3a",
   "metadata": {},
   "outputs": [
    {
     "name": "stdout",
     "output_type": "stream",
     "text": [
      "[('Product3', 300)]\n"
     ]
    }
   ],
   "source": [
    "filtered_price = list(filter(lambda item:item[1] >= 300, items))\n",
    "print(filtered_price)"
   ]
  },
  {
   "cell_type": "markdown",
   "id": "67b1634e-2f50-4224-9208-dab9280f2fee",
   "metadata": {},
   "source": [
    "### List comprehensions"
   ]
  },
  {
   "cell_type": "code",
   "execution_count": 23,
   "id": "a77decef-e817-400f-999c-be1f04a8a302",
   "metadata": {},
   "outputs": [
    {
     "name": "stdout",
     "output_type": "stream",
     "text": [
      "[('Product1', 100), ('Product2', 200), ('Product3', 300)]\n",
      "[('Product3', 300)]\n"
     ]
    }
   ],
   "source": [
    "# price = list(map(lambda item:item[1], items))\n",
    "# print(price)\n",
    "\n",
    "price = [item for item in items]\n",
    "print(price)\n",
    "\n",
    "# filtered_price = list(filter(lambda item:item[1] >= 300, items))\n",
    "# print(filtered_price)\n",
    "\n",
    "filtered_price = [item for item in items if item[1] >= 300]\n",
    "print(filtered_price)"
   ]
  },
  {
   "cell_type": "markdown",
   "id": "796e0f03-25b7-4881-a6d0-789d2e3e1ae6",
   "metadata": {},
   "source": [
    "### Stacks"
   ]
  },
  {
   "cell_type": "markdown",
   "id": "30933966-3784-4b4f-adc3-124cb9c221b5",
   "metadata": {},
   "source": [
    "> Last_in _frist_out"
   ]
  },
  {
   "cell_type": "code",
   "execution_count": 24,
   "id": "5cfd853a-d542-45c1-96e4-ef908f22055f",
   "metadata": {},
   "outputs": [
    {
     "name": "stdout",
     "output_type": "stream",
     "text": [
      "['Google', 'ICC T20 WC', 'PAK VS USA', 'IPL']\n"
     ]
    }
   ],
   "source": [
    "brwosing_history = []\n",
    "\n",
    "brwosing_history.append(\"Google\")\n",
    "brwosing_history.append(\"ICC T20 WC\")\n",
    "brwosing_history.append(\"PAK VS USA\")\n",
    "brwosing_history.append(\"IPL\")\n",
    "print(brwosing_history)"
   ]
  },
  {
   "cell_type": "code",
   "execution_count": 26,
   "id": "13825451-b5c5-4e98-99e9-9d163f3dc864",
   "metadata": {},
   "outputs": [
    {
     "name": "stdout",
     "output_type": "stream",
     "text": [
      "Redriecting ICC T20 WC\n"
     ]
    }
   ],
   "source": [
    "brwosing_history.pop()\n",
    "if brwosing_history:\n",
    "  print(\"Redriecting\", brwosing_history[-1])\n",
    "else:\n",
    "  print(\"There is No History\")\n"
   ]
  }
 ],
 "metadata": {
  "kernelspec": {
   "display_name": "Python 3 (ipykernel)",
   "language": "python",
   "name": "python3"
  },
  "language_info": {
   "codemirror_mode": {
    "name": "ipython",
    "version": 3
   },
   "file_extension": ".py",
   "mimetype": "text/x-python",
   "name": "python",
   "nbconvert_exporter": "python",
   "pygments_lexer": "ipython3",
   "version": "3.12.4"
  }
 },
 "nbformat": 4,
 "nbformat_minor": 5
}
