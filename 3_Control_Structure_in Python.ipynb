{
 "cells": [
  {
   "cell_type": "markdown",
   "id": "aaf5082d-48c9-4a73-a771-4296b23e2f16",
   "metadata": {},
   "source": [
    "# Control_structures"
   ]
  },
  {
   "cell_type": "markdown",
   "id": "6e16c512-b073-4a01-b1ad-e9b2463f7c24",
   "metadata": {},
   "source": [
    "> They are used to control the excution of our program on the basics of some criteria:"
   ]
  },
  {
   "cell_type": "markdown",
   "id": "d5d7f356-f873-4971-97bc-5c5f9fe024e3",
   "metadata": {},
   "source": [
    "### Conditional Statement\n"
   ]
  },
  {
   "cell_type": "code",
   "execution_count": null,
   "id": "5166bba5-6249-48fe-b295-cef48f763031",
   "metadata": {},
   "outputs": [],
   "source": [
    "if condition:\n",
    "  # code block"
   ]
  },
  {
   "cell_type": "code",
   "execution_count": 1,
   "id": "d7fa40f0-704e-42dc-9e95-aa5a672925a0",
   "metadata": {},
   "outputs": [
    {
     "name": "stdout",
     "output_type": "stream",
     "text": [
      "Anythings\n"
     ]
    }
   ],
   "source": [
    "age = 65\n",
    "# if age >=65 and age < 100:\n",
    "if 65>= age < 100:\n",
    "  print(\"Anythings\")"
   ]
  },
  {
   "cell_type": "code",
   "execution_count": 9,
   "id": "fd92ff7d-fae4-47a1-8bc4-31bad41a5987",
   "metadata": {},
   "outputs": [
    {
     "name": "stdout",
     "output_type": "stream",
     "text": [
      "Not\n"
     ]
    }
   ],
   "source": [
    "# if age >= 65 or age < 100:\n",
    "age = 50\n",
    "if 65 <=  age < 100: #_chaining_comparison\n",
    "  print(\"anythings\")\n",
    "else:\n",
    "  print(\"Not\")"
   ]
  },
  {
   "cell_type": "code",
   "execution_count": 1,
   "id": "28681f70-7f77-4961-b8c0-fd5bf432b3ab",
   "metadata": {},
   "outputs": [
    {
     "name": "stdout",
     "output_type": "stream",
     "text": [
      "You are eligible to vote\n"
     ]
    },
    {
     "data": {
      "text/plain": [
       "'not eligible'"
      ]
     },
     "execution_count": 1,
     "metadata": {},
     "output_type": "execute_result"
    }
   ],
   "source": [
    "age  = 25\n",
    "if age > 20:\n",
    "  print(\"You are eligible to vote\")\n",
    "\n",
    "#or\n",
    "\n",
    "\"eligible\" if age > 25 else \"not eligible\" #Ternary operator"
   ]
  },
  {
   "cell_type": "code",
   "execution_count": 3,
   "id": "06259405-2621-49fb-85d2-933292ec4be7",
   "metadata": {},
   "outputs": [
    {
     "name": "stdin",
     "output_type": "stream",
     "text": [
      "Enter today's temprature:  30\n"
     ]
    },
    {
     "name": "stdout",
     "output_type": "stream",
     "text": [
      "Not that much hot weather but take care\n"
     ]
    }
   ],
   "source": [
    "temprature = int(input(\"Enter today's temprature: \"))\n",
    "\n",
    "if temprature >= 20 and temprature <= 30:\n",
    "  print(\"Not that much hot weather but take care\")\n",
    "elif temprature > 30 and temprature <= 35:\n",
    "  print(\"Much hot weather drin water\")\n",
    "elif temprature > 35 and temprature <= 50:\n",
    "  print(\"Out of control\")\n",
    "else:\n",
    "  print(\"Extreme hot\")"
   ]
  },
  {
   "cell_type": "code",
   "execution_count": 7,
   "id": "a342a535-e69b-47e4-ad89-8280e1f4d692",
   "metadata": {},
   "outputs": [
    {
     "name": "stdout",
     "output_type": "stream",
     "text": [
      "You will go to trip.\n"
     ]
    }
   ],
   "source": [
    "marks = 96\n",
    "\n",
    "if marks >= 90 : print(\"You will go to trip.\") "
   ]
  },
  {
   "cell_type": "code",
   "execution_count": 4,
   "id": "fb0dac98-36f3-4d91-9a53-de86a5b40261",
   "metadata": {},
   "outputs": [
    {
     "name": "stdout",
     "output_type": "stream",
     "text": [
      "No phone for a month.\n"
     ]
    }
   ],
   "source": [
    "marks = 87\n",
    "\n",
    "print(\"You will go to trip.\") if marks >= 90 else print(\"No phone for a month.\")"
   ]
  },
  {
   "cell_type": "markdown",
   "id": "e7879b59-7d16-4f96-a630-5410f0136bc9",
   "metadata": {},
   "source": [
    "### Loops"
   ]
  },
  {
   "cell_type": "markdown",
   "id": "b53b0af2-4c4a-4564-a65b-fd8b558ffbeb",
   "metadata": {},
   "source": [
    "#### for loops"
   ]
  },
  {
   "cell_type": "code",
   "execution_count": null,
   "id": "287a7993-03f6-40d2-8c25-0c7e32f34bcf",
   "metadata": {},
   "outputs": [],
   "source": [
    "#Iterator\n",
    "#Iterbles"
   ]
  },
  {
   "cell_type": "code",
   "execution_count": 12,
   "id": "a9eb161f-f2d9-4374-9cf3-0207c292b2c5",
   "metadata": {},
   "outputs": [
    {
     "name": "stdout",
     "output_type": "stream",
     "text": [
      "Attempt 1\n",
      "Attempt 2\n",
      "Attempt 3\n"
     ]
    }
   ],
   "source": [
    "numb = 1\n",
    "for number in range(3):\n",
    "  print(\"Attempt\" , numb)\n",
    "  numb += 1\n",
    "    \n",
    "  #print(\"Attempt\", (number + 1) )"
   ]
  },
  {
   "cell_type": "code",
   "execution_count": 4,
   "id": "aaea334c-caae-4951-ada8-bdf4d76aeeb4",
   "metadata": {},
   "outputs": [
    {
     "name": "stdout",
     "output_type": "stream",
     "text": [
      "['Lion', 'wolf']\n",
      "['elephent', 'zebra']\n",
      "Lion\n",
      "wolf\n"
     ]
    }
   ],
   "source": [
    "zoo_animals = [[\"Lion\",\"wolf\"],[\"elephent\",\"zebra\"]]\n",
    "\n",
    "for animal in zoo_animals:\n",
    "  print(animal)\n",
    "\n",
    "for beast in zoo_animals[0]:\n",
    "  print(beast)"
   ]
  },
  {
   "cell_type": "code",
   "execution_count": 13,
   "id": "0958ab17-8bdb-45b1-9632-1902b7a6fb65",
   "metadata": {},
   "outputs": [
    {
     "name": "stdout",
     "output_type": "stream",
     "text": [
      "['loin']\n",
      "['elephent']\n",
      "elephent\n"
     ]
    }
   ],
   "source": [
    "zoo_animals = [[\"loin\"],[\"elephent\"]]\n",
    "for animal in zoo_animals:\n",
    "  print(animal)\n",
    "\n",
    "for animal in zoo_animals[1]:\n",
    "  print(animal)"
   ]
  },
  {
   "cell_type": "code",
   "execution_count": 14,
   "id": "275766fb-b448-4f15-861b-c3285de019ad",
   "metadata": {},
   "outputs": [
    {
     "name": "stdout",
     "output_type": "stream",
     "text": [
      "(0,0)\n",
      "(0,1)\n",
      "(0,2)\n",
      "(0,3)\n",
      "(0,4)\n",
      "(1,0)\n",
      "(1,1)\n",
      "(1,2)\n",
      "(1,3)\n",
      "(1,4)\n",
      "(2,0)\n",
      "(2,1)\n",
      "(2,2)\n",
      "(2,3)\n",
      "(2,4)\n",
      "(3,0)\n",
      "(3,1)\n",
      "(3,2)\n",
      "(3,3)\n",
      "(3,4)\n",
      "(4,0)\n",
      "(4,1)\n",
      "(4,2)\n",
      "(4,3)\n",
      "(4,4)\n"
     ]
    }
   ],
   "source": [
    "for x in range(5):\n",
    "  for y in range(5):\n",
    "    print(f\"({x},{y})\")"
   ]
  },
  {
   "cell_type": "code",
   "execution_count": 18,
   "id": "6b342a65-c71c-4897-adf5-8c200eb6dc16",
   "metadata": {},
   "outputs": [
    {
     "name": "stdout",
     "output_type": "stream",
     "text": [
      "Login Succussfully\n"
     ]
    }
   ],
   "source": [
    "#_Make a login attempt if user attempt to login and after three attempt if user failed  to login print msg that after three attempt your attempt are failed.\n",
    "\n",
    "Succussfull = True\n",
    "\n",
    "for login in range(3):\n",
    "  if Succussfull :\n",
    "    print(\"Login Succussfully\")\n",
    "    break\n",
    "  else:\n",
    "    print(\"Sorry\")"
   ]
  },
  {
   "cell_type": "code",
   "execution_count": 19,
   "id": "bb2494bc-ed2e-4d71-a048-327cc66b28f1",
   "metadata": {},
   "outputs": [
    {
     "name": "stdout",
     "output_type": "stream",
     "text": [
      "S\n",
      "U\n",
      "N\n",
      "E\n",
      "E\n",
      "L\n"
     ]
    }
   ],
   "source": [
    "for letter in \"SUNEEL\":\n",
    "  print(letter)"
   ]
  },
  {
   "cell_type": "code",
   "execution_count": 22,
   "id": "d1d0bd02-e541-49bb-85a8-e8b7a4bbacfd",
   "metadata": {},
   "outputs": [
    {
     "name": "stdout",
     "output_type": "stream",
     "text": [
      "Suneel 1\n",
      "Suneel 2\n",
      "Suneel 3\n",
      "Suneel 4\n",
      "Suneel 5\n"
     ]
    }
   ],
   "source": [
    "numb = 1\n",
    "for x in range(5):\n",
    "  print(\"Suneel\", numb)\n",
    "  numb += 1"
   ]
  },
  {
   "cell_type": "code",
   "execution_count": 23,
   "id": "9b79e2bb-7f4c-4557-8206-89bb578544b7",
   "metadata": {},
   "outputs": [
    {
     "name": "stdout",
     "output_type": "stream",
     "text": [
      "1\n",
      "2\n",
      "3\n",
      "4\n",
      "5\n",
      "6\n",
      "7\n",
      "8\n",
      "9\n",
      "10\n"
     ]
    }
   ],
   "source": [
    "x = 1\n",
    "for i in range(10):\n",
    "  print(x)\n",
    "  x += 1"
   ]
  },
  {
   "cell_type": "code",
   "execution_count": 24,
   "id": "63efb159-0279-4a5a-b6c6-a47f5bdd270e",
   "metadata": {},
   "outputs": [
    {
     "name": "stdout",
     "output_type": "stream",
     "text": [
      "0\n",
      "1\n",
      "2\n",
      "3\n",
      "4\n",
      "5\n",
      "6\n",
      "7\n",
      "8\n",
      "9\n"
     ]
    }
   ],
   "source": [
    "for i in range(10):\n",
    "  print(i)\n",
    "  i += 1\n"
   ]
  },
  {
   "cell_type": "code",
   "execution_count": 25,
   "id": "61085045-2eb1-4eda-a2dc-56c5d77b5872",
   "metadata": {},
   "outputs": [
    {
     "name": "stdout",
     "output_type": "stream",
     "text": [
      "1\n",
      "4\n",
      "9\n",
      "16\n",
      "25\n",
      "36\n",
      "49\n",
      "64\n",
      "81\n",
      "100\n"
     ]
    }
   ],
   "source": [
    "val = [1,4,9,16,25,36,49,64,81,100]\n",
    "\n",
    "for integer in val:\n",
    "  print(integer)"
   ]
  },
  {
   "cell_type": "code",
   "execution_count": 50,
   "id": "1f980bcf-423d-40d7-9d2c-15b7c841cbf4",
   "metadata": {},
   "outputs": [
    {
     "name": "stdin",
     "output_type": "stream",
     "text": [
      "What you search from above ?  5\n"
     ]
    },
    {
     "name": "stdout",
     "output_type": "stream",
     "text": [
      "Not Found\n"
     ]
    }
   ],
   "source": [
    "val = (1,4,9,16,25,36,49,64,81,100)\n",
    "x = input(\"What you search from above ? \")\n",
    "for x in val:\n",
    "  if (x == val) :\n",
    "    print(\"Found\")\n",
    "    break\n",
    "else:\n",
    "  print(\"Not Found\")"
   ]
  },
  {
   "cell_type": "code",
   "execution_count": null,
   "id": "e787ade8-efb7-414a-a299-f4e8c67f793e",
   "metadata": {},
   "outputs": [],
   "source": [
    "for i in range(1,6):\n",
    "  print(i)\n"
   ]
  },
  {
   "cell_type": "markdown",
   "id": "288fcd50-5e7a-462b-9d1b-63e7cee3a494",
   "metadata": {},
   "source": [
    "#### while_Loop\n",
    ">Life is all about uncertainity you don't know where , when what will happens..."
   ]
  },
  {
   "cell_type": "code",
   "execution_count": null,
   "id": "e9ad2633-5698-4f5c-bce6-9b2fa31524d4",
   "metadata": {},
   "outputs": [],
   "source": [
    "while condition:\n",
    "  ....."
   ]
  },
  {
   "cell_type": "code",
   "execution_count": null,
   "id": "c02f9d17-6fcc-4657-8827-319f6107a090",
   "metadata": {},
   "outputs": [],
   "source": [
    "number = 5\n",
    "while number > 5 and number :\n",
    "  print(number)\n",
    "  number = number + 1\n",
    "\n",
    "print(\"Done\")"
   ]
  },
  {
   "cell_type": "code",
   "execution_count": null,
   "id": "4fbaa3bc-453d-4d17-9599-c1d84b7fe127",
   "metadata": {},
   "outputs": [],
   "source": [
    "secret_number = 9\n",
    "guess_count = 0\n",
    "guess_limit = 3\n",
    "while guess_count < guess_limit:\n",
    "  guess = int(input(\"Guess:\"))\n",
    "  guess_count += 1\n",
    "secret_number = 9\n",
    "secret_number = 9\n",
    "if guess == secret_number:\n",
    "    print(\"You won\")\n",
    "    break\n",
    "else:\n",
    "    print(\"wrong guess try again\")\n",
    "guess_count += 1\n",
    " \n",
    "else:\n",
    "    print(\"You couldn't make it\")"
   ]
  },
  {
   "cell_type": "code",
   "execution_count": null,
   "id": "2f541407-dfb5-4946-b2a8-c1f35fc68370",
   "metadata": {},
   "outputs": [
    {
     "name": "stdin",
     "output_type": "stream",
     "text": [
      "Guess : 3\n"
     ]
    },
    {
     "name": "stdout",
     "output_type": "stream",
     "text": [
      "wrong guess try again\n",
      "You have two attempt.\n"
     ]
    },
    {
     "name": "stdin",
     "output_type": "stream",
     "text": [
      "Guess : 2\n"
     ]
    },
    {
     "name": "stdout",
     "output_type": "stream",
     "text": [
      "wrong guess try again\n",
      "You have two attempt.\n"
     ]
    },
    {
     "name": "stdin",
     "output_type": "stream",
     "text": [
      "Guess : 6\n"
     ]
    },
    {
     "name": "stdout",
     "output_type": "stream",
     "text": [
      "wrong guess try again\n",
      "You have two attempt.\n"
     ]
    },
    {
     "name": "stdin",
     "output_type": "stream",
     "text": [
      "Guess : 7\n"
     ]
    },
    {
     "name": "stdout",
     "output_type": "stream",
     "text": [
      "wrong guess try again\n",
      "You have two attempt.\n"
     ]
    },
    {
     "name": "stdin",
     "output_type": "stream",
     "text": [
      "Guess : 8\n"
     ]
    },
    {
     "name": "stdout",
     "output_type": "stream",
     "text": [
      "wrong guess try again\n",
      "You have two attempt.\n"
     ]
    },
    {
     "name": "stdin",
     "output_type": "stream",
     "text": [
      "Guess : 4\n"
     ]
    },
    {
     "name": "stdout",
     "output_type": "stream",
     "text": [
      "wrong guess try again\n",
      "You have two attempt.\n"
     ]
    },
    {
     "name": "stdin",
     "output_type": "stream",
     "text": [
      "Guess : 3\n"
     ]
    },
    {
     "name": "stdout",
     "output_type": "stream",
     "text": [
      "wrong guess try again\n",
      "You have two attempt.\n"
     ]
    },
    {
     "name": "stdin",
     "output_type": "stream",
     "text": [
      "Guess : 1\n"
     ]
    },
    {
     "name": "stdout",
     "output_type": "stream",
     "text": [
      "wrong guess try again\n",
      "You have two attempt.\n"
     ]
    },
    {
     "name": "stdin",
     "output_type": "stream",
     "text": [
      "Guess : 1\n"
     ]
    },
    {
     "name": "stdout",
     "output_type": "stream",
     "text": [
      "wrong guess try again\n",
      "You have two attempt.\n"
     ]
    },
    {
     "name": "stdin",
     "output_type": "stream",
     "text": [
      "Guess : 2\n"
     ]
    },
    {
     "name": "stdout",
     "output_type": "stream",
     "text": [
      "wrong guess try again\n",
      "You have two attempt.\n"
     ]
    },
    {
     "name": "stdin",
     "output_type": "stream",
     "text": [
      "Guess : 1\n"
     ]
    },
    {
     "name": "stdout",
     "output_type": "stream",
     "text": [
      "wrong guess try again\n",
      "You have two attempt.\n"
     ]
    },
    {
     "name": "stdin",
     "output_type": "stream",
     "text": [
      "Guess : 111111\n"
     ]
    },
    {
     "name": "stdout",
     "output_type": "stream",
     "text": [
      "wrong guess try again\n",
      "You have two attempt.\n"
     ]
    }
   ],
   "source": [
    "import random\n",
    "hidden_number = random.randint(1,10)\n",
    "guess_count = 0\n",
    "guess_limit = 3\n",
    "while guess_count < guess_limit:\n",
    "  guess = int(input(\"Guess :\"))\n",
    "  if guess == hidden_number:\n",
    "    print(\"You won\")\n",
    "    guess_count -= 1\n",
    "    break\n",
    "  else:\n",
    "    print(\"wrong guess try again\")\n",
    "    guess_count = int()\n",
    "    guess_count -= 1\n",
    "    print(\"You have two attempt.\")\n",
    "else:\n",
    "  print(\"Sorry\")"
   ]
  },
  {
   "cell_type": "code",
   "execution_count": null,
   "id": "55ca6663-eed3-4bc7-a5c2-2871ba87fd7a",
   "metadata": {},
   "outputs": [],
   "source": [
    "command = \"\"\n",
    "while True:\n",
    "  command = input(\"Enter command\")\n",
    "if command == \"Starts\":\n",
    "    print(\"Started lets go..\")\n",
    "    if True: # placeholder, replace with your condition\n",
    "      pass\n",
    "    elif command == \"stop\":\n",
    "      print(\"stopped\")\n",
    "    elif command == \"Exist\":\n",
    "      print(\"Quit the game\")\n",
    "      break\n",
    "      dd\n",
    "else:\n",
    "    print(\"I dont understand\")"
   ]
  }
 ],
 "metadata": {
  "kernelspec": {
   "display_name": "Python 3 (ipykernel)",
   "language": "python",
   "name": "python3"
  },
  "language_info": {
   "codemirror_mode": {
    "name": "ipython",
    "version": 3
   },
   "file_extension": ".py",
   "mimetype": "text/x-python",
   "name": "python",
   "nbconvert_exporter": "python",
   "pygments_lexer": "ipython3",
   "version": "3.12.4"
  }
 },
 "nbformat": 4,
 "nbformat_minor": 5
}
